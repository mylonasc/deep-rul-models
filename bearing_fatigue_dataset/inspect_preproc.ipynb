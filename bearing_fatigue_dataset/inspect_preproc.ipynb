{
 "cells": [
  {
   "cell_type": "code",
   "execution_count": 5,
   "metadata": {},
   "outputs": [
    {
     "name": "stdout",
     "output_type": "stream",
     "text": [
      "Bearing1_1  Bearing1_2\tBearing2_1  Bearing2_2\tBearing3_1  Bearing3_2\r\n"
     ]
    }
   ],
   "source": [
    "!ls phm-ieee-2012-data-challenge-dataset/Learning_set/"
   ]
  },
  {
   "cell_type": "markdown",
   "metadata": {},
   "source": [
    "## Description:\n",
    "* From: https://github.com/wkzs111/phm-ieee-2012-data-challenge-dataset/blob/master/IEEEPHM2012-Challenge-Details.pdf\n",
    "* Because HILTI data may have issues publishing (due to HILTI), it's better to use this dataset (just in case)"
   ]
  },
  {
   "cell_type": "code",
   "execution_count": 7,
   "metadata": {},
   "outputs": [
    {
     "ename": "ValueError",
     "evalue": "Length mismatch: Expected axis has 10 elements, new values have 6 elements",
     "output_type": "error",
     "traceback": [
      "\u001b[0;31m---------------------------------------------------------------------------\u001b[0m",
      "\u001b[0;31mValueError\u001b[0m                                Traceback (most recent call last)",
      "\u001b[0;32m<ipython-input-7-3994174a4550>\u001b[0m in \u001b[0;36m<module>\u001b[0;34m\u001b[0m\n\u001b[1;32m     28\u001b[0m \u001b[0;34m\u001b[0m\u001b[0m\n\u001b[1;32m     29\u001b[0m         \u001b[0;32mif\u001b[0m \u001b[0mmeas_type\u001b[0m \u001b[0;34m==\u001b[0m \u001b[0;34m'acc'\u001b[0m\u001b[0;34m:\u001b[0m\u001b[0;34m\u001b[0m\u001b[0;34m\u001b[0m\u001b[0m\n\u001b[0;32m---> 30\u001b[0;31m             \u001b[0mv\u001b[0m\u001b[0;34m.\u001b[0m\u001b[0mcolumns\u001b[0m \u001b[0;34m=\u001b[0m \u001b[0macc_columns\u001b[0m\u001b[0;34m\u001b[0m\u001b[0;34m\u001b[0m\u001b[0m\n\u001b[0m\u001b[1;32m     31\u001b[0m             \u001b[0;32mif\u001b[0m \u001b[0mAccDF\u001b[0m \u001b[0;32mis\u001b[0m \u001b[0;32mNone\u001b[0m\u001b[0;34m:\u001b[0m\u001b[0;34m\u001b[0m\u001b[0;34m\u001b[0m\u001b[0m\n\u001b[1;32m     32\u001b[0m                 \u001b[0mAccDF\u001b[0m \u001b[0;34m=\u001b[0m \u001b[0mv\u001b[0m\u001b[0;34m\u001b[0m\u001b[0;34m\u001b[0m\u001b[0m\n",
      "\u001b[0;32m~/.local/lib/python3.6/site-packages/pandas/core/generic.py\u001b[0m in \u001b[0;36m__setattr__\u001b[0;34m(self, name, value)\u001b[0m\n\u001b[1;32m   5190\u001b[0m         \u001b[0;32mtry\u001b[0m\u001b[0;34m:\u001b[0m\u001b[0;34m\u001b[0m\u001b[0;34m\u001b[0m\u001b[0m\n\u001b[1;32m   5191\u001b[0m             \u001b[0mobject\u001b[0m\u001b[0;34m.\u001b[0m\u001b[0m__getattribute__\u001b[0m\u001b[0;34m(\u001b[0m\u001b[0mself\u001b[0m\u001b[0;34m,\u001b[0m \u001b[0mname\u001b[0m\u001b[0;34m)\u001b[0m\u001b[0;34m\u001b[0m\u001b[0;34m\u001b[0m\u001b[0m\n\u001b[0;32m-> 5192\u001b[0;31m             \u001b[0;32mreturn\u001b[0m \u001b[0mobject\u001b[0m\u001b[0;34m.\u001b[0m\u001b[0m__setattr__\u001b[0m\u001b[0;34m(\u001b[0m\u001b[0mself\u001b[0m\u001b[0;34m,\u001b[0m \u001b[0mname\u001b[0m\u001b[0;34m,\u001b[0m \u001b[0mvalue\u001b[0m\u001b[0;34m)\u001b[0m\u001b[0;34m\u001b[0m\u001b[0;34m\u001b[0m\u001b[0m\n\u001b[0m\u001b[1;32m   5193\u001b[0m         \u001b[0;32mexcept\u001b[0m \u001b[0mAttributeError\u001b[0m\u001b[0;34m:\u001b[0m\u001b[0;34m\u001b[0m\u001b[0;34m\u001b[0m\u001b[0m\n\u001b[1;32m   5194\u001b[0m             \u001b[0;32mpass\u001b[0m\u001b[0;34m\u001b[0m\u001b[0;34m\u001b[0m\u001b[0m\n",
      "\u001b[0;32mpandas/_libs/properties.pyx\u001b[0m in \u001b[0;36mpandas._libs.properties.AxisProperty.__set__\u001b[0;34m()\u001b[0m\n",
      "\u001b[0;32m~/.local/lib/python3.6/site-packages/pandas/core/generic.py\u001b[0m in \u001b[0;36m_set_axis\u001b[0;34m(self, axis, labels)\u001b[0m\n\u001b[1;32m    688\u001b[0m \u001b[0;34m\u001b[0m\u001b[0m\n\u001b[1;32m    689\u001b[0m     \u001b[0;32mdef\u001b[0m \u001b[0m_set_axis\u001b[0m\u001b[0;34m(\u001b[0m\u001b[0mself\u001b[0m\u001b[0;34m,\u001b[0m \u001b[0maxis\u001b[0m\u001b[0;34m,\u001b[0m \u001b[0mlabels\u001b[0m\u001b[0;34m)\u001b[0m\u001b[0;34m:\u001b[0m\u001b[0;34m\u001b[0m\u001b[0;34m\u001b[0m\u001b[0m\n\u001b[0;32m--> 690\u001b[0;31m         \u001b[0mself\u001b[0m\u001b[0;34m.\u001b[0m\u001b[0m_data\u001b[0m\u001b[0;34m.\u001b[0m\u001b[0mset_axis\u001b[0m\u001b[0;34m(\u001b[0m\u001b[0maxis\u001b[0m\u001b[0;34m,\u001b[0m \u001b[0mlabels\u001b[0m\u001b[0;34m)\u001b[0m\u001b[0;34m\u001b[0m\u001b[0;34m\u001b[0m\u001b[0m\n\u001b[0m\u001b[1;32m    691\u001b[0m         \u001b[0mself\u001b[0m\u001b[0;34m.\u001b[0m\u001b[0m_clear_item_cache\u001b[0m\u001b[0;34m(\u001b[0m\u001b[0;34m)\u001b[0m\u001b[0;34m\u001b[0m\u001b[0;34m\u001b[0m\u001b[0m\n\u001b[1;32m    692\u001b[0m \u001b[0;34m\u001b[0m\u001b[0m\n",
      "\u001b[0;32m~/.local/lib/python3.6/site-packages/pandas/core/internals/managers.py\u001b[0m in \u001b[0;36mset_axis\u001b[0;34m(self, axis, new_labels)\u001b[0m\n\u001b[1;32m    181\u001b[0m             raise ValueError(\n\u001b[1;32m    182\u001b[0m                 \u001b[0;34m\"Length mismatch: Expected axis has {old} elements, new \"\u001b[0m\u001b[0;34m\u001b[0m\u001b[0;34m\u001b[0m\u001b[0m\n\u001b[0;32m--> 183\u001b[0;31m                 \u001b[0;34m\"values have {new} elements\"\u001b[0m\u001b[0;34m.\u001b[0m\u001b[0mformat\u001b[0m\u001b[0;34m(\u001b[0m\u001b[0mold\u001b[0m\u001b[0;34m=\u001b[0m\u001b[0mold_len\u001b[0m\u001b[0;34m,\u001b[0m \u001b[0mnew\u001b[0m\u001b[0;34m=\u001b[0m\u001b[0mnew_len\u001b[0m\u001b[0;34m)\u001b[0m\u001b[0;34m\u001b[0m\u001b[0;34m\u001b[0m\u001b[0m\n\u001b[0m\u001b[1;32m    184\u001b[0m             )\n\u001b[1;32m    185\u001b[0m \u001b[0;34m\u001b[0m\u001b[0m\n",
      "\u001b[0;31mValueError\u001b[0m: Length mismatch: Expected axis has 10 elements, new values have 6 elements"
     ]
    }
   ],
   "source": [
    "b = ['1_1','1_2',\"2_1\",\"2_2\",\"3_1\",\"3_2\"]\n",
    "root = 'phm-ieee-2012-data-challenge-dataset/Learning_set/Bearing%s'\n",
    "import pandas as pd\n",
    "import matplotlib.pyplot as pplot\n",
    "import numpy as np\n",
    "import os\n",
    "\n",
    "\n",
    "\n",
    "for b_ in b[1:]:\n",
    "    bearing_dir = root%b_\n",
    "\n",
    "    dir_files = os.listdir(bearing_dir)\n",
    "    AccDF = None\n",
    "    TempDF = None\n",
    "    acc_columns = ['h','m','s','se-6','h_acc','v_acc']\n",
    "    kk = 0;\n",
    "    for file in dir_files:\n",
    "        v = pd.read_csv(os.path.join(bearing_dir, dir_files[0]))\n",
    "        v = pd.DataFrame(v)\n",
    "        bearing_conditions = b[0][0]\n",
    "        exper_index = b[0][-1]\n",
    "        meas_type = file[0:3]\n",
    "        v['bearing_conditions'] = bearing_conditions\n",
    "        v['exper_index'] = exper_index\n",
    "        v['meas_type'] = file[0:3]\n",
    "        v['block'] = file[4:9]\n",
    "\n",
    "        if meas_type == 'acc':\n",
    "            v.columns = acc_columns \n",
    "            if AccDF is None:\n",
    "                AccDF = v\n",
    "            else:\n",
    "                AccDF = pd.concat([AccDF, v])\n",
    "        kk += 1\n",
    "        if kk % 10000 == 0:\n",
    "            print(\"Working on b_:%s...%i\"%(b_,kk))\n",
    "    #v1 = pd.read_csv(os.path.join(bearing_dir, dir_files[100]))\n",
    "    #v2 = pd.read_csv(os.path.join(bearing_dir, dir_files[213]))\n",
    "    AccDF.to_pickle(\"AccB_%s.pickle\"%b_)\n",
    "\n",
    "#pd.read_csv(os.path.join(root%b[0],))"
   ]
  },
  {
   "cell_type": "code",
   "execution_count": 9,
   "metadata": {},
   "outputs": [
    {
     "data": {
      "text/html": [
       "<div>\n",
       "<style scoped>\n",
       "    .dataframe tbody tr th:only-of-type {\n",
       "        vertical-align: middle;\n",
       "    }\n",
       "\n",
       "    .dataframe tbody tr th {\n",
       "        vertical-align: top;\n",
       "    }\n",
       "\n",
       "    .dataframe thead th {\n",
       "        text-align: right;\n",
       "    }\n",
       "</style>\n",
       "<table border=\"1\" class=\"dataframe\">\n",
       "  <thead>\n",
       "    <tr style=\"text-align: right;\">\n",
       "      <th></th>\n",
       "      <th>15</th>\n",
       "      <th>24</th>\n",
       "      <th>49</th>\n",
       "      <th>65664</th>\n",
       "      <th>0.05</th>\n",
       "      <th>0.627</th>\n",
       "    </tr>\n",
       "  </thead>\n",
       "  <tbody>\n",
       "    <tr>\n",
       "      <th>0</th>\n",
       "      <td>15</td>\n",
       "      <td>24</td>\n",
       "      <td>49</td>\n",
       "      <td>65703.0</td>\n",
       "      <td>-0.623</td>\n",
       "      <td>0.197</td>\n",
       "    </tr>\n",
       "    <tr>\n",
       "      <th>1</th>\n",
       "      <td>15</td>\n",
       "      <td>24</td>\n",
       "      <td>49</td>\n",
       "      <td>65742.0</td>\n",
       "      <td>-0.007</td>\n",
       "      <td>-0.722</td>\n",
       "    </tr>\n",
       "    <tr>\n",
       "      <th>2</th>\n",
       "      <td>15</td>\n",
       "      <td>24</td>\n",
       "      <td>49</td>\n",
       "      <td>65781.0</td>\n",
       "      <td>-0.601</td>\n",
       "      <td>0.354</td>\n",
       "    </tr>\n",
       "    <tr>\n",
       "      <th>3</th>\n",
       "      <td>15</td>\n",
       "      <td>24</td>\n",
       "      <td>49</td>\n",
       "      <td>65820.0</td>\n",
       "      <td>-0.603</td>\n",
       "      <td>0.336</td>\n",
       "    </tr>\n",
       "    <tr>\n",
       "      <th>4</th>\n",
       "      <td>15</td>\n",
       "      <td>24</td>\n",
       "      <td>49</td>\n",
       "      <td>65859.0</td>\n",
       "      <td>-0.605</td>\n",
       "      <td>-0.066</td>\n",
       "    </tr>\n",
       "    <tr>\n",
       "      <th>...</th>\n",
       "      <td>...</td>\n",
       "      <td>...</td>\n",
       "      <td>...</td>\n",
       "      <td>...</td>\n",
       "      <td>...</td>\n",
       "      <td>...</td>\n",
       "    </tr>\n",
       "    <tr>\n",
       "      <th>2554</th>\n",
       "      <td>15</td>\n",
       "      <td>24</td>\n",
       "      <td>49</td>\n",
       "      <td>165470.0</td>\n",
       "      <td>-0.167</td>\n",
       "      <td>0.067</td>\n",
       "    </tr>\n",
       "    <tr>\n",
       "      <th>2555</th>\n",
       "      <td>15</td>\n",
       "      <td>24</td>\n",
       "      <td>49</td>\n",
       "      <td>165510.0</td>\n",
       "      <td>-0.388</td>\n",
       "      <td>-0.155</td>\n",
       "    </tr>\n",
       "    <tr>\n",
       "      <th>2556</th>\n",
       "      <td>15</td>\n",
       "      <td>24</td>\n",
       "      <td>49</td>\n",
       "      <td>165550.0</td>\n",
       "      <td>-1.283</td>\n",
       "      <td>0.299</td>\n",
       "    </tr>\n",
       "    <tr>\n",
       "      <th>2557</th>\n",
       "      <td>15</td>\n",
       "      <td>24</td>\n",
       "      <td>49</td>\n",
       "      <td>165580.0</td>\n",
       "      <td>-2.266</td>\n",
       "      <td>-0.062</td>\n",
       "    </tr>\n",
       "    <tr>\n",
       "      <th>2558</th>\n",
       "      <td>15</td>\n",
       "      <td>24</td>\n",
       "      <td>49</td>\n",
       "      <td>165620.0</td>\n",
       "      <td>-2.497</td>\n",
       "      <td>-0.115</td>\n",
       "    </tr>\n",
       "  </tbody>\n",
       "</table>\n",
       "<p>2559 rows × 6 columns</p>\n",
       "</div>"
      ],
      "text/plain": [
       "      15  24  49     65664   0.05  0.627\n",
       "0     15  24  49   65703.0 -0.623  0.197\n",
       "1     15  24  49   65742.0 -0.007 -0.722\n",
       "2     15  24  49   65781.0 -0.601  0.354\n",
       "3     15  24  49   65820.0 -0.603  0.336\n",
       "4     15  24  49   65859.0 -0.605 -0.066\n",
       "...   ..  ..  ..       ...    ...    ...\n",
       "2554  15  24  49  165470.0 -0.167  0.067\n",
       "2555  15  24  49  165510.0 -0.388 -0.155\n",
       "2556  15  24  49  165550.0 -1.283  0.299\n",
       "2557  15  24  49  165580.0 -2.266 -0.062\n",
       "2558  15  24  49  165620.0 -2.497 -0.115\n",
       "\n",
       "[2559 rows x 6 columns]"
      ]
     },
     "execution_count": 9,
     "metadata": {},
     "output_type": "execute_result"
    }
   ],
   "source": [
    "import pandas as pd\n",
    "import matplotlib.pyplot as pplot\n",
    "import numpy as np\n",
    "root = 'phm-ieee-2012-data-challenge-dataset/Learning_set/Bearing%s'\n",
    "import os\n",
    "\n",
    "b_ = '1_1'\n",
    "bearing_dir = root%b_\n",
    "dir_files = os.listdir(bearing_dir)\n",
    "acc_columns = ['h','m','s','se-6','h_acc','v_acc']\n",
    "\n",
    "pd.read_csv(os.path.join(bearing_dir, dir_files[0]))"
   ]
  },
  {
   "cell_type": "code",
   "execution_count": 10,
   "metadata": {},
   "outputs": [],
   "source": [
    "#!cd phm-ieee-2012-data-challenge-dataset/ && git remote show origin"
   ]
  },
  {
   "cell_type": "code",
   "execution_count": 15,
   "metadata": {},
   "outputs": [
    {
     "data": {
      "text/plain": [
       "'phm-ieee-2012-data-challenge-dataset/Learning_set/Bearing1_1'"
      ]
     },
     "execution_count": 15,
     "metadata": {},
     "output_type": "execute_result"
    }
   ],
   "source": []
  },
  {
   "cell_type": "code",
   "execution_count": 11,
   "metadata": {},
   "outputs": [
    {
     "data": {
      "text/html": [
       "<div>\n",
       "<style scoped>\n",
       "    .dataframe tbody tr th:only-of-type {\n",
       "        vertical-align: middle;\n",
       "    }\n",
       "\n",
       "    .dataframe tbody tr th {\n",
       "        vertical-align: top;\n",
       "    }\n",
       "\n",
       "    .dataframe thead th {\n",
       "        text-align: right;\n",
       "    }\n",
       "</style>\n",
       "<table border=\"1\" class=\"dataframe\">\n",
       "  <thead>\n",
       "    <tr style=\"text-align: right;\">\n",
       "      <th></th>\n",
       "      <th>h</th>\n",
       "      <th>m</th>\n",
       "      <th>s</th>\n",
       "      <th>ms</th>\n",
       "      <th>h_acc</th>\n",
       "      <th>v_acc</th>\n",
       "    </tr>\n",
       "  </thead>\n",
       "  <tbody>\n",
       "    <tr>\n",
       "      <th>0</th>\n",
       "      <td>15</td>\n",
       "      <td>24</td>\n",
       "      <td>49</td>\n",
       "      <td>65703.0</td>\n",
       "      <td>-0.623</td>\n",
       "      <td>0.197</td>\n",
       "    </tr>\n",
       "    <tr>\n",
       "      <th>1</th>\n",
       "      <td>15</td>\n",
       "      <td>24</td>\n",
       "      <td>49</td>\n",
       "      <td>65742.0</td>\n",
       "      <td>-0.007</td>\n",
       "      <td>-0.722</td>\n",
       "    </tr>\n",
       "    <tr>\n",
       "      <th>2</th>\n",
       "      <td>15</td>\n",
       "      <td>24</td>\n",
       "      <td>49</td>\n",
       "      <td>65781.0</td>\n",
       "      <td>-0.601</td>\n",
       "      <td>0.354</td>\n",
       "    </tr>\n",
       "    <tr>\n",
       "      <th>3</th>\n",
       "      <td>15</td>\n",
       "      <td>24</td>\n",
       "      <td>49</td>\n",
       "      <td>65820.0</td>\n",
       "      <td>-0.603</td>\n",
       "      <td>0.336</td>\n",
       "    </tr>\n",
       "    <tr>\n",
       "      <th>4</th>\n",
       "      <td>15</td>\n",
       "      <td>24</td>\n",
       "      <td>49</td>\n",
       "      <td>65859.0</td>\n",
       "      <td>-0.605</td>\n",
       "      <td>-0.066</td>\n",
       "    </tr>\n",
       "    <tr>\n",
       "      <th>...</th>\n",
       "      <td>...</td>\n",
       "      <td>...</td>\n",
       "      <td>...</td>\n",
       "      <td>...</td>\n",
       "      <td>...</td>\n",
       "      <td>...</td>\n",
       "    </tr>\n",
       "    <tr>\n",
       "      <th>2554</th>\n",
       "      <td>15</td>\n",
       "      <td>24</td>\n",
       "      <td>49</td>\n",
       "      <td>165470.0</td>\n",
       "      <td>-0.167</td>\n",
       "      <td>0.067</td>\n",
       "    </tr>\n",
       "    <tr>\n",
       "      <th>2555</th>\n",
       "      <td>15</td>\n",
       "      <td>24</td>\n",
       "      <td>49</td>\n",
       "      <td>165510.0</td>\n",
       "      <td>-0.388</td>\n",
       "      <td>-0.155</td>\n",
       "    </tr>\n",
       "    <tr>\n",
       "      <th>2556</th>\n",
       "      <td>15</td>\n",
       "      <td>24</td>\n",
       "      <td>49</td>\n",
       "      <td>165550.0</td>\n",
       "      <td>-1.283</td>\n",
       "      <td>0.299</td>\n",
       "    </tr>\n",
       "    <tr>\n",
       "      <th>2557</th>\n",
       "      <td>15</td>\n",
       "      <td>24</td>\n",
       "      <td>49</td>\n",
       "      <td>165580.0</td>\n",
       "      <td>-2.266</td>\n",
       "      <td>-0.062</td>\n",
       "    </tr>\n",
       "    <tr>\n",
       "      <th>2558</th>\n",
       "      <td>15</td>\n",
       "      <td>24</td>\n",
       "      <td>49</td>\n",
       "      <td>165620.0</td>\n",
       "      <td>-2.497</td>\n",
       "      <td>-0.115</td>\n",
       "    </tr>\n",
       "  </tbody>\n",
       "</table>\n",
       "<p>2559 rows × 6 columns</p>\n",
       "</div>"
      ],
      "text/plain": [
       "       h   m   s        ms  h_acc  v_acc\n",
       "0     15  24  49   65703.0 -0.623  0.197\n",
       "1     15  24  49   65742.0 -0.007 -0.722\n",
       "2     15  24  49   65781.0 -0.601  0.354\n",
       "3     15  24  49   65820.0 -0.603  0.336\n",
       "4     15  24  49   65859.0 -0.605 -0.066\n",
       "...   ..  ..  ..       ...    ...    ...\n",
       "2554  15  24  49  165470.0 -0.167  0.067\n",
       "2555  15  24  49  165510.0 -0.388 -0.155\n",
       "2556  15  24  49  165550.0 -1.283  0.299\n",
       "2557  15  24  49  165580.0 -2.266 -0.062\n",
       "2558  15  24  49  165620.0 -2.497 -0.115\n",
       "\n",
       "[2559 rows x 6 columns]"
      ]
     },
     "execution_count": 11,
     "metadata": {},
     "output_type": "execute_result"
    }
   ],
   "source": [
    "v = pd.read_csv(os.path.join(bearing_dir, dir_files[0]))\n",
    "v.columns = ['h','m','s','ms','h_acc','v_acc']\n",
    "v"
   ]
  },
  {
   "cell_type": "markdown",
   "metadata": {},
   "source": [
    "# TODO:\n",
    "* Maybe it's a better format to put the acc.measurements in an array, and have a single entry for each provided block."
   ]
  },
  {
   "cell_type": "code",
   "execution_count": null,
   "metadata": {},
   "outputs": [],
   "source": []
  },
  {
   "cell_type": "code",
   "execution_count": 3,
   "metadata": {},
   "outputs": [
    {
     "name": "stdout",
     "output_type": "stream",
     "text": [
      "total 3.6G\r\n",
      "drwxrwxr-x  4 charilaos charilaos 4.0K Jul  9 11:11 .\r\n",
      "drwxrwxr-x 17 charilaos charilaos 4.0K Jul  9 11:08 ..\r\n",
      "-rw-rw-r--  1 charilaos charilaos 478M Jan 30 19:34 AccB_1_1.pickle\r\n",
      "-rw-rw-r--  1 charilaos charilaos 148M Jan 30 19:35 AccB_1_2.pickle\r\n",
      "-rw-rw-r--  1 charilaos charilaos 307M Feb 28 17:19 AccB_1_3.pickle\r\n",
      "-rw-rw-r--  1 charilaos charilaos 194M Feb 28 17:20 AccB_1_4.pickle\r\n",
      "-rw-rw-r--  1 charilaos charilaos 393M Feb 28 17:26 AccB_1_5.pickle\r\n",
      "-rw-rw-r--  1 charilaos charilaos 393M Feb 28 17:31 AccB_1_6.pickle\r\n",
      "-rw-rw-r--  1 charilaos charilaos 256M Feb 28 17:33 AccB_1_7.pickle\r\n",
      "-rw-rw-r--  1 charilaos charilaos 155M Jan 30 19:36 AccB_2_1.pickle\r\n",
      "-rw-rw-r--  1 charilaos charilaos 135M Jan 30 19:36 AccB_2_2.pickle\r\n",
      "-rw-rw-r--  1 charilaos charilaos 205M Feb 28 17:35 AccB_2_3.pickle\r\n",
      "-rw-rw-r--  1 charilaos charilaos 104M Feb 28 17:35 AccB_2_4.pickle\r\n",
      "-rw-rw-r--  1 charilaos charilaos 341M Feb 28 17:39 AccB_2_5.pickle\r\n",
      "-rw-rw-r--  1 charilaos charilaos  97M Feb 28 17:39 AccB_2_6.pickle\r\n",
      "-rw-rw-r--  1 charilaos charilaos  29M Feb 28 17:39 AccB_2_7.pickle\r\n",
      "-rw-rw-r--  1 charilaos charilaos  87M Jan 30 19:37 AccB_3_1.pickle\r\n",
      "-rw-rw-r--  1 charilaos charilaos 279M Jan 30 19:39 AccB_3_2.pickle\r\n",
      "-rw-rw-r--  1 charilaos charilaos  59M Feb 28 17:39 AccB_3_3.pickle\r\n",
      "-rw-rw-r--  1 charilaos charilaos  28K Feb 24 10:51 inspect_preproc.ipynb\r\n",
      "drwxrwxr-x  2 charilaos charilaos 4.0K Jan 20 17:30 .ipynb_checkpoints\r\n",
      "drwxrwxr-x  6 charilaos charilaos 4.0K Jan 20 17:27 phm-ieee-2012-data-challenge-dataset\r\n",
      "-rw-rw-r--  1 charilaos charilaos 1.6K Feb 28 17:15 preproc_stage_1.py\r\n"
     ]
    }
   ],
   "source": [
    "!ls -lah "
   ]
  },
  {
   "cell_type": "code",
   "execution_count": 89,
   "metadata": {
    "collapsed": true
   },
   "outputs": [
    {
     "ename": "OSError",
     "evalue": "[Errno 28] No space left on device",
     "output_type": "error",
     "traceback": [
      "\u001b[0;31m---------------------------------------------------------------------------\u001b[0m",
      "\u001b[0;31mOSError\u001b[0m                                   Traceback (most recent call last)",
      "\u001b[0;32m<ipython-input-89-964dd6733602>\u001b[0m in \u001b[0;36m<module>\u001b[0;34m\u001b[0m\n\u001b[1;32m     30\u001b[0m \u001b[0;34m\u001b[0m\u001b[0m\n\u001b[1;32m     31\u001b[0m \u001b[0mAccDF\u001b[0m \u001b[0;34m=\u001b[0m \u001b[0mpd\u001b[0m\u001b[0;34m.\u001b[0m\u001b[0mconcat\u001b[0m\u001b[0;34m(\u001b[0m\u001b[0;34m[\u001b[0m\u001b[0mAccDF1\u001b[0m\u001b[0;34m,\u001b[0m \u001b[0mAccDF2\u001b[0m\u001b[0;34m,\u001b[0m \u001b[0mAccDF3\u001b[0m\u001b[0;34m,\u001b[0m \u001b[0mAccDF4\u001b[0m\u001b[0;34m,\u001b[0m \u001b[0mAccDF5\u001b[0m\u001b[0;34m,\u001b[0m \u001b[0mAccDF6\u001b[0m\u001b[0;34m]\u001b[0m\u001b[0;34m)\u001b[0m\u001b[0;34m\u001b[0m\u001b[0;34m\u001b[0m\u001b[0m\n\u001b[0;32m---> 32\u001b[0;31m \u001b[0mAccDF\u001b[0m\u001b[0;34m.\u001b[0m\u001b[0mto_pickle\u001b[0m\u001b[0;34m(\u001b[0m\u001b[0;34m\"AccB.pickle\"\u001b[0m\u001b[0;34m)\u001b[0m\u001b[0;34m\u001b[0m\u001b[0;34m\u001b[0m\u001b[0m\n\u001b[0m\u001b[1;32m     33\u001b[0m \u001b[0;34m\u001b[0m\u001b[0m\n",
      "\u001b[0;32m~/.local/lib/python3.7/site-packages/pandas/core/generic.py\u001b[0m in \u001b[0;36mto_pickle\u001b[0;34m(self, path, compression, protocol)\u001b[0m\n\u001b[1;32m   2769\u001b[0m         \u001b[0;32mfrom\u001b[0m \u001b[0mpandas\u001b[0m\u001b[0;34m.\u001b[0m\u001b[0mio\u001b[0m\u001b[0;34m.\u001b[0m\u001b[0mpickle\u001b[0m \u001b[0;32mimport\u001b[0m \u001b[0mto_pickle\u001b[0m\u001b[0;34m\u001b[0m\u001b[0;34m\u001b[0m\u001b[0m\n\u001b[1;32m   2770\u001b[0m \u001b[0;34m\u001b[0m\u001b[0m\n\u001b[0;32m-> 2771\u001b[0;31m         \u001b[0mto_pickle\u001b[0m\u001b[0;34m(\u001b[0m\u001b[0mself\u001b[0m\u001b[0;34m,\u001b[0m \u001b[0mpath\u001b[0m\u001b[0;34m,\u001b[0m \u001b[0mcompression\u001b[0m\u001b[0;34m=\u001b[0m\u001b[0mcompression\u001b[0m\u001b[0;34m,\u001b[0m \u001b[0mprotocol\u001b[0m\u001b[0;34m=\u001b[0m\u001b[0mprotocol\u001b[0m\u001b[0;34m)\u001b[0m\u001b[0;34m\u001b[0m\u001b[0;34m\u001b[0m\u001b[0m\n\u001b[0m\u001b[1;32m   2772\u001b[0m \u001b[0;34m\u001b[0m\u001b[0m\n\u001b[1;32m   2773\u001b[0m     \u001b[0;32mdef\u001b[0m \u001b[0mto_clipboard\u001b[0m\u001b[0;34m(\u001b[0m\u001b[0mself\u001b[0m\u001b[0;34m,\u001b[0m \u001b[0mexcel\u001b[0m\u001b[0;34m=\u001b[0m\u001b[0;32mTrue\u001b[0m\u001b[0;34m,\u001b[0m \u001b[0msep\u001b[0m\u001b[0;34m=\u001b[0m\u001b[0;32mNone\u001b[0m\u001b[0;34m,\u001b[0m \u001b[0;34m**\u001b[0m\u001b[0mkwargs\u001b[0m\u001b[0;34m)\u001b[0m\u001b[0;34m:\u001b[0m\u001b[0;34m\u001b[0m\u001b[0;34m\u001b[0m\u001b[0m\n",
      "\u001b[0;32m~/.local/lib/python3.7/site-packages/pandas/io/pickle.py\u001b[0m in \u001b[0;36mto_pickle\u001b[0;34m(obj, path, compression, protocol)\u001b[0m\n\u001b[1;32m     74\u001b[0m         \u001b[0mprotocol\u001b[0m \u001b[0;34m=\u001b[0m \u001b[0mpickle\u001b[0m\u001b[0;34m.\u001b[0m\u001b[0mHIGHEST_PROTOCOL\u001b[0m\u001b[0;34m\u001b[0m\u001b[0;34m\u001b[0m\u001b[0m\n\u001b[1;32m     75\u001b[0m     \u001b[0;32mtry\u001b[0m\u001b[0;34m:\u001b[0m\u001b[0;34m\u001b[0m\u001b[0;34m\u001b[0m\u001b[0m\n\u001b[0;32m---> 76\u001b[0;31m         \u001b[0mf\u001b[0m\u001b[0;34m.\u001b[0m\u001b[0mwrite\u001b[0m\u001b[0;34m(\u001b[0m\u001b[0mpickle\u001b[0m\u001b[0;34m.\u001b[0m\u001b[0mdumps\u001b[0m\u001b[0;34m(\u001b[0m\u001b[0mobj\u001b[0m\u001b[0;34m,\u001b[0m \u001b[0mprotocol\u001b[0m\u001b[0;34m=\u001b[0m\u001b[0mprotocol\u001b[0m\u001b[0;34m)\u001b[0m\u001b[0;34m)\u001b[0m\u001b[0;34m\u001b[0m\u001b[0;34m\u001b[0m\u001b[0m\n\u001b[0m\u001b[1;32m     77\u001b[0m     \u001b[0;32mfinally\u001b[0m\u001b[0;34m:\u001b[0m\u001b[0;34m\u001b[0m\u001b[0;34m\u001b[0m\u001b[0m\n\u001b[1;32m     78\u001b[0m         \u001b[0mf\u001b[0m\u001b[0;34m.\u001b[0m\u001b[0mclose\u001b[0m\u001b[0;34m(\u001b[0m\u001b[0;34m)\u001b[0m\u001b[0;34m\u001b[0m\u001b[0;34m\u001b[0m\u001b[0m\n",
      "\u001b[0;31mOSError\u001b[0m: [Errno 28] No space left on device"
     ]
    }
   ],
   "source": [
    "AccDF1 = pd.read_pickle(\"AccB_1_1.pickle\")\n",
    "AccDF1['meas_type'] = 'acc'\n",
    "AccDF1['exper_index'] = 1\n",
    "AccDF1['bearing_conditions'] = 1 # first number\n",
    "\n",
    "\n",
    "AccDF2 = pd.read_pickle(\"AccB_1_2.pickle\")\n",
    "AccDF2['meas_type'] = 'acc'\n",
    "AccDF2['exper_index'] = 2\n",
    "AccDF2['bearing_conditions'] = 1 # first number\n",
    "\n",
    "AccDF3 = pd.read_pickle(\"AccB_2_1.pickle\")\n",
    "AccDF3['meas_type'] = 'acc'\n",
    "AccDF3['exper_index'] = 1\n",
    "AccDF3['bearing_conditions'] = 2 # first number\n",
    "\n",
    "AccDF4 = pd.read_pickle(\"AccB_2_2.pickle\")\n",
    "AccDF4['meas_type'] = 'acc'\n",
    "AccDF4['exper_index'] = 2\n",
    "AccDF4['bearing_conditions'] = 2 # first number\n",
    "\n",
    "AccDF5 = pd.read_pickle(\"AccB_3_1.pickle\")\n",
    "AccDF5['meas_type'] = 'acc'\n",
    "AccDF5['exper_index'] = 1\n",
    "AccDF5['bearing_conditions'] = 3 # first number\n",
    "\n",
    "AccDF6 = pd.read_pickle(\"AccB_3_2.pickle\")\n",
    "AccDF6['meas_type'] = 'acc'\n",
    "AccDF6['exper_index'] = 2\n",
    "AccDF6['bearing_conditions'] = 3 # first number\n",
    "\n",
    "AccDF = pd.concat([AccDF1, AccDF2, AccDF3, AccDF4, AccDF5, AccDF6])\n",
    "AccDF.to_pickle(\"AccB.pickle\")\n",
    "\n"
   ]
  },
  {
   "cell_type": "code",
   "execution_count": 112,
   "metadata": {},
   "outputs": [
    {
     "ename": "TypeError",
     "evalue": "cannot convert the series to <class 'int'>",
     "output_type": "error",
     "traceback": [
      "\u001b[0;31m---------------------------------------------------------------------------\u001b[0m",
      "\u001b[0;31mTypeError\u001b[0m                                 Traceback (most recent call last)",
      "\u001b[0;32m<ipython-input-112-2edb1202de8b>\u001b[0m in \u001b[0;36m<module>\u001b[0;34m\u001b[0m\n\u001b[1;32m      1\u001b[0m \u001b[0;31m#AccDF.to_pickle(\"AccB.pickle\")\u001b[0m\u001b[0;34m\u001b[0m\u001b[0;34m\u001b[0m\u001b[0;34m\u001b[0m\u001b[0m\n\u001b[0;32m----> 2\u001b[0;31m \u001b[0mpd\u001b[0m\u001b[0;34m.\u001b[0m\u001b[0mTimestamp\u001b[0m\u001b[0;34m(\u001b[0m\u001b[0myear\u001b[0m\u001b[0;34m=\u001b[0m\u001b[0;36m2017\u001b[0m\u001b[0;34m,\u001b[0m \u001b[0mmonth\u001b[0m\u001b[0;34m=\u001b[0m\u001b[0mAccDF\u001b[0m\u001b[0;34m[\u001b[0m\u001b[0;34m'h'\u001b[0m\u001b[0;34m]\u001b[0m\u001b[0;34m,\u001b[0m \u001b[0mday\u001b[0m\u001b[0;34m=\u001b[0m\u001b[0;36m1\u001b[0m\u001b[0;34m,\u001b[0m \u001b[0mhour\u001b[0m\u001b[0;34m=\u001b[0m\u001b[0;36m12\u001b[0m\u001b[0;34m,\u001b[0m\u001b[0mminute\u001b[0m\u001b[0;34m=\u001b[0m\u001b[0;36m3\u001b[0m\u001b[0;34m,\u001b[0m \u001b[0msecond\u001b[0m\u001b[0;34m=\u001b[0m\u001b[0;36m34\u001b[0m\u001b[0;34m,\u001b[0m \u001b[0mnanosecond\u001b[0m\u001b[0;34m=\u001b[0m\u001b[0;36m2\u001b[0m\u001b[0;34m*\u001b[0m\u001b[0;36m1000\u001b[0m\u001b[0;34m)\u001b[0m\u001b[0;34m\u001b[0m\u001b[0;34m\u001b[0m\u001b[0m\n\u001b[0m",
      "\u001b[0;32mpandas/_libs/tslibs/timestamps.pyx\u001b[0m in \u001b[0;36mpandas._libs.tslibs.timestamps.Timestamp.__new__\u001b[0;34m()\u001b[0m\n",
      "\u001b[0;32m~/.local/lib/python3.7/site-packages/pandas/core/series.py\u001b[0m in \u001b[0;36mwrapper\u001b[0;34m(self)\u001b[0m\n\u001b[1;32m    129\u001b[0m         \u001b[0;32mif\u001b[0m \u001b[0mlen\u001b[0m\u001b[0;34m(\u001b[0m\u001b[0mself\u001b[0m\u001b[0;34m)\u001b[0m \u001b[0;34m==\u001b[0m \u001b[0;36m1\u001b[0m\u001b[0;34m:\u001b[0m\u001b[0;34m\u001b[0m\u001b[0;34m\u001b[0m\u001b[0m\n\u001b[1;32m    130\u001b[0m             \u001b[0;32mreturn\u001b[0m \u001b[0mconverter\u001b[0m\u001b[0;34m(\u001b[0m\u001b[0mself\u001b[0m\u001b[0;34m.\u001b[0m\u001b[0miloc\u001b[0m\u001b[0;34m[\u001b[0m\u001b[0;36m0\u001b[0m\u001b[0;34m]\u001b[0m\u001b[0;34m)\u001b[0m\u001b[0;34m\u001b[0m\u001b[0;34m\u001b[0m\u001b[0m\n\u001b[0;32m--> 131\u001b[0;31m         \u001b[0;32mraise\u001b[0m \u001b[0mTypeError\u001b[0m\u001b[0;34m(\u001b[0m\u001b[0;34m\"cannot convert the series to \"\u001b[0m \u001b[0;34m\"{0}\"\u001b[0m\u001b[0;34m.\u001b[0m\u001b[0mformat\u001b[0m\u001b[0;34m(\u001b[0m\u001b[0mstr\u001b[0m\u001b[0;34m(\u001b[0m\u001b[0mconverter\u001b[0m\u001b[0;34m)\u001b[0m\u001b[0;34m)\u001b[0m\u001b[0;34m)\u001b[0m\u001b[0;34m\u001b[0m\u001b[0;34m\u001b[0m\u001b[0m\n\u001b[0m\u001b[1;32m    132\u001b[0m \u001b[0;34m\u001b[0m\u001b[0m\n\u001b[1;32m    133\u001b[0m     \u001b[0mwrapper\u001b[0m\u001b[0;34m.\u001b[0m\u001b[0m__name__\u001b[0m \u001b[0;34m=\u001b[0m \u001b[0;34m\"__{name}__\"\u001b[0m\u001b[0;34m.\u001b[0m\u001b[0mformat\u001b[0m\u001b[0;34m(\u001b[0m\u001b[0mname\u001b[0m\u001b[0;34m=\u001b[0m\u001b[0mconverter\u001b[0m\u001b[0;34m.\u001b[0m\u001b[0m__name__\u001b[0m\u001b[0;34m)\u001b[0m\u001b[0;34m\u001b[0m\u001b[0;34m\u001b[0m\u001b[0m\n",
      "\u001b[0;31mTypeError\u001b[0m: cannot convert the series to <class 'int'>"
     ]
    }
   ],
   "source": [
    "#AccDF.to_pickle(\"AccB.pickle\")\n",
    "pd.Timestamp(year=2017, month=AccDF['h'], day=1, hour=12,minute=3, second=34, nanosecond=2*1000)"
   ]
  },
  {
   "cell_type": "code",
   "execution_count": 128,
   "metadata": {},
   "outputs": [],
   "source": [
    "#AccDF.groupby([\"exper_index\", 'bearing_conditions']).apply(lambda x :x['h'].max() - x['h'].min())\n",
    "AccDF['t[s]'] = AccDF['m']*60. + AccDF['s']+AccDF['se-6']*1e-6\n",
    "time_to_failure = AccDF.groupby([\"bearing_conditions\",'exper_index']).apply(lambda x : x['t[s]'].max() -x['t[s]'])"
   ]
  },
  {
   "cell_type": "code",
   "execution_count": 129,
   "metadata": {},
   "outputs": [
    {
     "data": {
      "text/plain": [
       "bearing_conditions  exper_index      \n",
       "1                   1            0       0.099917\n",
       "                                 1       0.099878\n",
       "                                 2       0.099839\n",
       "                                 3       0.099800\n",
       "                                 4       0.099761\n",
       "                                           ...   \n",
       "3                   2            2554    0.000156\n",
       "                                 2555    0.000117\n",
       "                                 2556    0.000078\n",
       "                                 2557    0.000039\n",
       "                                 2558    0.000000\n",
       "Name: t[s], Length: 19279506, dtype: float64"
      ]
     },
     "execution_count": 129,
     "metadata": {},
     "output_type": "execute_result"
    }
   ],
   "source": [
    "time_to_failure"
   ]
  },
  {
   "cell_type": "code",
   "execution_count": 4,
   "metadata": {},
   "outputs": [
    {
     "ename": "NameError",
     "evalue": "name 'os' is not defined",
     "output_type": "error",
     "traceback": [
      "\u001b[0;31m---------------------------------------------------------------------------\u001b[0m",
      "\u001b[0;31mNameError\u001b[0m                                 Traceback (most recent call last)",
      "\u001b[0;32m<ipython-input-4-6a0f0dc8fbe5>\u001b[0m in \u001b[0;36m<module>\u001b[0;34m\u001b[0m\n\u001b[0;32m----> 1\u001b[0;31m \u001b[0mos\u001b[0m\u001b[0;34m.\u001b[0m\u001b[0mlistdir\u001b[0m\u001b[0;34m(\u001b[0m\u001b[0mos\u001b[0m\u001b[0;34m.\u001b[0m\u001b[0mpath\u001b[0m\u001b[0;34m.\u001b[0m\u001b[0mjoin\u001b[0m\u001b[0;34m(\u001b[0m\u001b[0mroot\u001b[0m\u001b[0;34m,\u001b[0m \u001b[0;34m'Bearing'\u001b[0m\u001b[0;34m%\u001b[0m\u001b[0mb\u001b[0m\u001b[0;34m[\u001b[0m\u001b[0;36m0\u001b[0m\u001b[0;34m]\u001b[0m\u001b[0;34m)\u001b[0m\u001b[0;34m)\u001b[0m\u001b[0;34m\u001b[0m\u001b[0;34m\u001b[0m\u001b[0m\n\u001b[0m",
      "\u001b[0;31mNameError\u001b[0m: name 'os' is not defined"
     ]
    }
   ],
   "source": [
    "\n",
    "os.listdir(os.path.join(root, 'Bearing'%b[0]))"
   ]
  },
  {
   "cell_type": "code",
   "execution_count": null,
   "metadata": {},
   "outputs": [],
   "source": []
  }
 ],
 "metadata": {
  "kernelspec": {
   "display_name": "Python 3",
   "language": "python",
   "name": "python3"
  },
  "language_info": {
   "codemirror_mode": {
    "name": "ipython",
    "version": 3
   },
   "file_extension": ".py",
   "mimetype": "text/x-python",
   "name": "python",
   "nbconvert_exporter": "python",
   "pygments_lexer": "ipython3",
   "version": "3.6.9"
  }
 },
 "nbformat": 4,
 "nbformat_minor": 2
}
