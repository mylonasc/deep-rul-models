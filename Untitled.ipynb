{
 "cells": [
  {
   "cell_type": "code",
   "execution_count": 2,
   "metadata": {},
   "outputs": [],
   "source": [
    "import requests\n",
    "from requests.auth import HTTPDigestAuth\n",
    "import json\n"
   ]
  },
  {
   "cell_type": "code",
   "execution_count": 3,
   "metadata": {},
   "outputs": [
    {
     "name": "stdout",
     "output_type": "stream",
     "text": [
      "Defaulting to user installation because normal site-packages is not writeable\n",
      "Collecting scholarly\n",
      "  Downloading scholarly-0.4.0-py3-none-any.whl (22 kB)\n",
      "Requirement already satisfied: stem in /home/charilaos/.local/lib/python3.6/site-packages (from scholarly) (1.7.1)\n",
      "Collecting arrow\n",
      "  Downloading arrow-0.15.8-py2.py3-none-any.whl (49 kB)\n",
      "\u001b[K     |████████████████████████████████| 49 kB 1.5 MB/s eta 0:00:01\n",
      "\u001b[?25hCollecting selenium\n",
      "  Downloading selenium-3.141.0-py2.py3-none-any.whl (904 kB)\n",
      "\u001b[K     |████████████████████████████████| 904 kB 2.5 MB/s eta 0:00:01\n",
      "\u001b[?25hRequirement already satisfied: PySocks in /home/charilaos/.local/lib/python3.6/site-packages (from scholarly) (1.7.1)\n",
      "Collecting fake-useragent\n",
      "  Downloading fake-useragent-0.1.11.tar.gz (13 kB)\n",
      "Requirement already satisfied: beautifulsoup4 in /home/charilaos/.local/lib/python3.6/site-packages (from scholarly) (4.8.1)\n",
      "Collecting bibtexparser\n",
      "  Downloading bibtexparser-1.2.0.tar.gz (46 kB)\n",
      "\u001b[K     |████████████████████████████████| 46 kB 2.6 MB/s eta 0:00:01\n",
      "\u001b[?25hCollecting python-dotenv\n",
      "  Downloading python_dotenv-0.14.0-py2.py3-none-any.whl (17 kB)\n",
      "Requirement already satisfied: requests[socks] in /home/charilaos/.local/lib/python3.6/site-packages (from scholarly) (2.22.0)\n",
      "Collecting free-proxy\n",
      "  Downloading free_proxy-1.0.1-py3-none-any.whl (4.0 kB)\n",
      "Requirement already satisfied: python-dateutil in /home/charilaos/.local/lib/python3.6/site-packages (from arrow->scholarly) (2.8.1)\n",
      "Requirement already satisfied: urllib3 in /home/charilaos/.local/lib/python3.6/site-packages (from selenium->scholarly) (1.25.7)\n",
      "Requirement already satisfied: soupsieve>=1.2 in /home/charilaos/.local/lib/python3.6/site-packages (from beautifulsoup4->scholarly) (1.9.5)\n",
      "Requirement already satisfied: pyparsing>=2.0.3 in /home/charilaos/.local/lib/python3.6/site-packages (from bibtexparser->scholarly) (2.4.5)\n",
      "Requirement already satisfied: future>=0.16.0 in /home/charilaos/.local/lib/python3.6/site-packages (from bibtexparser->scholarly) (0.18.0)\n",
      "Requirement already satisfied: certifi>=2017.4.17 in /home/charilaos/.local/lib/python3.6/site-packages (from requests[socks]->scholarly) (2019.11.28)\n",
      "Requirement already satisfied: chardet<3.1.0,>=3.0.2 in /home/charilaos/.local/lib/python3.6/site-packages (from requests[socks]->scholarly) (3.0.4)\n",
      "Requirement already satisfied: idna<2.9,>=2.5 in /home/charilaos/.local/lib/python3.6/site-packages (from requests[socks]->scholarly) (2.8)\n",
      "Requirement already satisfied: lxml in /home/charilaos/.local/lib/python3.6/site-packages (from free-proxy->scholarly) (4.4.1)\n",
      "Requirement already satisfied: six>=1.5 in /home/charilaos/.local/lib/python3.6/site-packages (from python-dateutil->arrow->scholarly) (1.13.0)\n",
      "Building wheels for collected packages: fake-useragent, bibtexparser\n",
      "  Building wheel for fake-useragent (setup.py) ... \u001b[?25ldone\n",
      "\u001b[?25h  Created wheel for fake-useragent: filename=fake_useragent-0.1.11-py3-none-any.whl size=13487 sha256=4817b245a9dd1fa7f369988f755e0507990f602dbf6cf050a878f35874dd3a39\n",
      "  Stored in directory: /home/charilaos/.cache/pip/wheels/12/8a/a1/0ab79c1c2c58aa7647d0dea17f2af2358b65e1eecac8094b5e\n",
      "  Building wheel for bibtexparser (setup.py) ... \u001b[?25ldone\n",
      "\u001b[?25h  Created wheel for bibtexparser: filename=bibtexparser-1.2.0-py3-none-any.whl size=36712 sha256=0c9ae2040d59e86914988385907376eb0d15b5d59507a36c90683535cec509d8\n",
      "  Stored in directory: /home/charilaos/.cache/pip/wheels/68/29/54/39007899ff79c342310b9341fc6cfd87f93151854e6f9be90d\n",
      "Successfully built fake-useragent bibtexparser\n",
      "Installing collected packages: arrow, selenium, fake-useragent, bibtexparser, python-dotenv, free-proxy, scholarly\n",
      "Successfully installed arrow-0.15.8 bibtexparser-1.2.0 fake-useragent-0.1.11 free-proxy-1.0.1 python-dotenv-0.14.0 scholarly-0.4.0 selenium-3.141.0\n",
      "\u001b[33mWARNING: You are using pip version 20.0.2; however, version 20.2.1 is available.\n",
      "You should consider upgrading via the '/usr/bin/python3 -m pip install --upgrade pip' command.\u001b[0m\n"
     ]
    }
   ],
   "source": [
    "\n",
    "!pip3 install scholarly"
   ]
  },
  {
   "cell_type": "code",
   "execution_count": null,
   "metadata": {},
   "outputs": [],
   "source": []
  }
 ],
 "metadata": {
  "kernelspec": {
   "display_name": "Python 3",
   "language": "python",
   "name": "python3"
  },
  "language_info": {
   "codemirror_mode": {
    "name": "ipython",
    "version": 3
   },
   "file_extension": ".py",
   "mimetype": "text/x-python",
   "name": "python",
   "nbconvert_exporter": "python",
   "pygments_lexer": "ipython3",
   "version": "3.6.9"
  }
 },
 "nbformat": 4,
 "nbformat_minor": 2
}
