{
 "cells": [
  {
   "cell_type": "code",
   "execution_count": 1,
   "metadata": {},
   "outputs": [],
   "source": [
    "import tensorflow as tf\n",
    "import tensorflow.keras as keras \n",
    "from tensorflow.keras.layers import Input, Dense\n",
    "\n",
    "from tensorflow.compat.v1 import ConfigProto\n",
    "from tensorflow.compat.v1 import InteractiveSession\n",
    "\n",
    "config = ConfigProto()\n",
    "config.gpu_options.allow_growth = True\n",
    "sess = InteractiveSession(config=config)\n",
    "\n",
    "\n",
    "from minigraphnets import Node , Edge, Graph"
   ]
  },
  {
   "cell_type": "markdown",
   "metadata": {},
   "source": [
    "# Trying to fit a random field with a graphnet:"
   ]
  },
  {
   "cell_type": "code",
   "execution_count": 2,
   "metadata": {},
   "outputs": [],
   "source": [
    "# in_graph , out_graph , node_positions,gg = sample_graph_from_2d_result(points, all_vals[0])\n"
   ]
  },
  {
   "cell_type": "code",
   "execution_count": 3,
   "metadata": {},
   "outputs": [],
   "source": [
    "# gn_encode.save(\"/tmp/encode\")\n",
    "# gn_process.save(\"/tmp/core\")\n",
    "# gn_decode.save(\"/tmp/decode\")"
   ]
  },
  {
   "cell_type": "code",
   "execution_count": null,
   "metadata": {},
   "outputs": [],
   "source": [
    "\n"
   ]
  },
  {
   "cell_type": "code",
   "execution_count": 4,
   "metadata": {},
   "outputs": [
    {
     "name": "stdout",
     "output_type": "stream",
     "text": [
      ".\n",
      ".\n",
      ".\n",
      ".\n",
      ".\n",
      ".\n",
      ".\n",
      ".\n",
      ".\n",
      ".\n"
     ]
    }
   ],
   "source": [
    "%load_ext autoreload\n",
    "%autoreload 2\n",
    "from graphnet_utils import * \n",
    "from random_field_model import * \n",
    "\n",
    "## Creation of the random field data:\n",
    "# Creates a 20x20 grid of points and a random field with them.\n",
    "k = ExpQuadKernel(0.3)\n",
    "#points = np.random.randn(10,2)\n",
    "npoints = 20\n",
    "[xx,yy] = np.meshgrid(np.linspace(-1,1,npoints), np.linspace(-31,1,npoints))\n",
    "points = np.vstack([xx.flatten(), yy.flatten()]).T\n",
    "C = k.get_chol(points)\n",
    "\n",
    "r = np.random.randn(np.prod(xx.flatten().shape))\n",
    "all_vals = [];\n",
    "for i in range(10):\n",
    "    vals = r @ C.T\n",
    "    r = np.random.randn(np.prod(xx.flatten().shape))\n",
    "    all_vals.append(vals) #vals.reshape(xx.shape))\n",
    "\n",
    "# samples a single graph from 1 of the sampled random fields:\n",
    "in_graph , out_graph , node_positions = sample_graph_from_2d_result(points, all_vals[0])\n",
    "input_graphs, output_graphs, node_positions  = get_multiple_graph_samples_random_fields(1,all_vals,points, pct_observed=10,pct_unobserved=90)\n",
    "#[len(e.edges) for e in input_graphs]\n",
    "all_nodes_in, all_edges_in , all_nodes_out, all_edges_out =[ [],[],[],[]] ;\n",
    "n_node_in, n_node_out = [[],[]]\n",
    "n_edge_in, n_edge_out = [[],[]]\n",
    "for g in input_graphs :\n",
    "    all_edges_in.extend(g.edges) \n",
    "    all_nodes_in.extend(g.nodes)\n",
    "    n_node_in. append(g.nodes.__len__())\n",
    "    n_edge_in.append(g.edges.__len__())\n",
    "    \n",
    "\n",
    "for g in output_graphs:\n",
    "    all_edges_out.extend(g.edges)\n",
    "    all_nodes_out.extend(g.nodes)\n",
    "\n",
    "gin = Graph(all_nodes_in,  all_edges_in)\n",
    "gout = Graph(all_nodes_out, all_edges_out)"
   ]
  },
  {
   "cell_type": "code",
   "execution_count": 16,
   "metadata": {},
   "outputs": [],
   "source": [
    "from minigraphnets import make_graph_tuple_from_graph_list, GraphTuple"
   ]
  },
  {
   "cell_type": "code",
   "execution_count": 353,
   "metadata": {},
   "outputs": [],
   "source": [
    "\n",
    "graph_tuple = make_graph_tuple_from_graph_list(input_graphs)"
   ]
  },
  {
   "cell_type": "code",
   "execution_count": 354,
   "metadata": {},
   "outputs": [
    {
     "ename": "TypeError",
     "evalue": "is_equal_by_value() missing 1 required positional argument: 'g2'",
     "output_type": "error",
     "traceback": [
      "\u001b[0;31m---------------------------------------------------------------------------\u001b[0m",
      "\u001b[0;31mTypeError\u001b[0m                                 Traceback (most recent call last)",
      "\u001b[0;32m<ipython-input-354-6daae5c22ec2>\u001b[0m in \u001b[0;36m<module>\u001b[0;34m\u001b[0m\n\u001b[1;32m      1\u001b[0m \u001b[0mgraph2\u001b[0m \u001b[0;34m=\u001b[0m \u001b[0mgraph_tuple\u001b[0m\u001b[0;34m.\u001b[0m\u001b[0mget_graph\u001b[0m\u001b[0;34m(\u001b[0m\u001b[0;36m1\u001b[0m\u001b[0;34m)\u001b[0m\u001b[0;34m\u001b[0m\u001b[0;34m\u001b[0m\u001b[0m\n\u001b[0;32m----> 2\u001b[0;31m \u001b[0mgraph2\u001b[0m\u001b[0;34m.\u001b[0m\u001b[0mis_equal_by_value\u001b[0m\u001b[0;34m(\u001b[0m\u001b[0minput_graphs\u001b[0m\u001b[0;34m[\u001b[0m\u001b[0;36m1\u001b[0m\u001b[0;34m]\u001b[0m\u001b[0;34m)\u001b[0m\u001b[0;34m\u001b[0m\u001b[0;34m\u001b[0m\u001b[0m\n\u001b[0m",
      "\u001b[0;31mTypeError\u001b[0m: is_equal_by_value() missing 1 required positional argument: 'g2'"
     ]
    }
   ],
   "source": [
    "\n",
    "graph2 = graph_tuple.get_graph(1)\n",
    "graph2.is_equal_by_value(input_graphs[1])"
   ]
  },
  {
   "cell_type": "code",
   "execution_count": 324,
   "metadata": {},
   "outputs": [],
   "source": [
    "g1 =graph2\n",
    "g2 = graph2.copy()\n"
   ]
  },
  {
   "cell_type": "code",
   "execution_count": 331,
   "metadata": {},
   "outputs": [
    {
     "data": {
      "text/plain": [
       "True"
      ]
     },
     "execution_count": 331,
     "metadata": {},
     "output_type": "execute_result"
    }
   ],
   "source": [
    "compare_connectivity(graph_tuple.get_graph(1), graph_tuple.get_graph(1))\n",
    "    \n",
    "#nodes_from_dict = [node_from1 == node_from2 for node_from1,node_from2 in zip([e1.node_from for e1 in g1.edges], [e2.node_from for e2 in g2.edges])]\n",
    "#nodes_to_dict = {node_to1 : node_to2 for node_to1,node_to2 in zip([e1.node_to for e1 in g1.edges], [e2.node_to for e2 in g2.edges])}\n",
    "\n",
    "#graph2.nodes[0].node_attr_tensor"
   ]
  },
  {
   "cell_type": "code",
   "execution_count": 327,
   "metadata": {},
   "outputs": [
    {
     "ename": "NameError",
     "evalue": "name 'reduce' is not defined",
     "output_type": "error",
     "traceback": [
      "\u001b[0;31m---------------------------------------------------------------------------\u001b[0m",
      "\u001b[0;31mNameError\u001b[0m                                 Traceback (most recent call last)",
      "\u001b[0;32m<ipython-input-327-73eeb5152f5e>\u001b[0m in \u001b[0;36m<module>\u001b[0;34m\u001b[0m\n\u001b[0;32m----> 1\u001b[0;31m \u001b[0mhelp\u001b[0m\u001b[0;34m(\u001b[0m\u001b[0mreduce\u001b[0m\u001b[0;34m)\u001b[0m\u001b[0;34m\u001b[0m\u001b[0;34m\u001b[0m\u001b[0m\n\u001b[0m",
      "\u001b[0;31mNameError\u001b[0m: name 'reduce' is not defined"
     ]
    }
   ],
   "source": []
  },
  {
   "cell_type": "code",
   "execution_count": 79,
   "metadata": {},
   "outputs": [],
   "source": [
    "\n",
    "def make_graph_tuple_from_graph_list(list_of_graphs):\n",
    "    \"\"\"\n",
    "    Takes in a list of graphs (with consistent sizes - not checked)\n",
    "    and creates a graph tuple (input tensors + some book keeping)\n",
    "    \n",
    "    Because there is some initial functionality I don't want to throw away currently, that implements special treatment for nodes and edges\n",
    "    coming from graphs with the same topology, it is currently required that the first dimension of nodes and edges\n",
    "    for the list of graphs that are entered in this function is always 1 (this dimension is the batch dimension in the previous implementation.)\n",
    "    \"\"\"\n",
    "    # graph_id = [id_ for id_, dummy in enumerate(list_of_graphs)]\n",
    "    all_edges, all_nodes, n_nodes,n_edges =[[],[],[],[]]\n",
    "    for g in list_of_graphs:\n",
    "        all_edges.extend(g.edges)\n",
    "        all_nodes.extend(g.nodes)\n",
    "        n_nodes.append(len(g.nodes)) \n",
    "        n_edges.append(len(g.edges)) \n",
    "    \n",
    "    edge_attr_tensor, nodes_attr_tensor, senders, receivers = [[],[],[],[]];\n",
    "    for e in all_edges:\n",
    "        edge_attr_tensor.append(e.edge_tensor)\n",
    "        senders.append(all_nodes.index(e.node_from))\n",
    "        receivers.append(all_nodes.index(e.node_to))\n",
    "        \n",
    "        #senders.append(e.node_from.find(gin.nodes))\n",
    "        #receivers.append(e.node_to.find(gin.nodes))\n",
    "    \n",
    "    for n in all_nodes:\n",
    "        nodes_attr_tensor.append(n.node_attr_tensor)\n",
    "    \n",
    "    edges_attr_stacked = tf.stack(edge_attr_tensor,0)\n",
    "    nodes_attr_stacked = tf.stack(nodes_attr_tensor,0)\n",
    "    return GraphTuple(nodes_attr_stacked, edges_attr_stacked,senders, receivers, n_nodes, n_edges)# , graph_id)\n",
    "\n",
    "graph_tuple = make_graph_tuple_from_graph_list(input_graphs)\n",
    "\n",
    "#edge_attr_tensor_stacked = tf.stack(edge_attr_tensor)\n",
    "\n",
    "\n",
    "#n_node_in"
   ]
  },
  {
   "cell_type": "code",
   "execution_count": 80,
   "metadata": {},
   "outputs": [],
   "source": [
    "#graph_tuple.edges\n"
   ]
  },
  {
   "cell_type": "code",
   "execution_count": 81,
   "metadata": {},
   "outputs": [],
   "source": [
    "in_graph , out_graph , node_positions_0 = sample_graph_from_2d_result(points, all_vals[0])"
   ]
  },
  {
   "cell_type": "code",
   "execution_count": null,
   "metadata": {},
   "outputs": [],
   "source": []
  },
  {
   "cell_type": "code",
   "execution_count": 82,
   "metadata": {},
   "outputs": [
    {
     "name": "stdout",
     "output_type": "stream",
     "text": [
      "Help on function sample_graph_from_2d_result in module random_field_model:\n",
      "\n",
      "sample_graph_from_2d_result(points, all_vals_, pct_x=10, pct_y=10, cutoff=0.5)\n",
      "\n"
     ]
    }
   ],
   "source": [
    "help(sample_graph_from_2d_result)"
   ]
  },
  {
   "cell_type": "code",
   "execution_count": 83,
   "metadata": {},
   "outputs": [
    {
     "name": "stdout",
     "output_type": "stream",
     "text": [
      "Help on function get_multiple_graph_samples_random_fields in module random_field_model:\n",
      "\n",
      "get_multiple_graph_samples_random_fields(nsamples, vals, all_points, pct_observed=10, pct_unobserved=None, cutoff=0.5)\n",
      "    Returns graph samples from a random field.\n",
      "    \n",
      "    nsamples: how many samples per random field to take\n",
      "    vals: the values of the random field.\n",
      "    all_points: the coordinates of all the points of the random fields\n",
      "    pct_observed: the percentage of the positions of the random field assumed observed for each sample\n",
      "    pct_unobserved: the percentage of the positions of the random field assumed unobserved.\n",
      "\n"
     ]
    }
   ],
   "source": [
    "help( get_multiple_graph_samples_random_fields)\n",
    "    "
   ]
  },
  {
   "cell_type": "code",
   "execution_count": 84,
   "metadata": {},
   "outputs": [],
   "source": [
    "#graph_state_size = (10,);\n",
    "graph_state_size = 10;\n",
    "qoi_size = 1; # dimension of the random field.\n",
    "functions_encode = make_mlp_graphnet_functions(15,input_size=1, output_size=graph_state_size, graph_indep=True)\n",
    "functions_core   = make_mlp_graphnet_functions(15,input_size = graph_state_size,output_size = graph_state_size)\n",
    "functions_decode = make_mlp_graphnet_functions(15,input_size = graph_state_size,output_size=1, graph_indep = True)\n",
    "\n",
    "gn_encode = GraphNet(**functions_encode)\n",
    "gn_process = GraphNet(**functions_core)\n",
    "gn_decode = GraphNet(**functions_decode)\n",
    "\n",
    "def eval_network(graph, core_iterations = 3, residual = True, eval_mode = \"batched\"):\n",
    "    g = gn_encode.graph_eval(graph.copy(), eval_mode = eval_mode)\n",
    "    for k in range(core_iterations):\n",
    "        if residual:\n",
    "            g = g + gn_process.graph_eval(g, eval_mode= eval_mode)\n",
    "        else:\n",
    "            g = gn_process.graph_eval(g, eval_mode = eval_mode)\n",
    "            \n",
    "    return gn_decode.graph_eval(g, eval_mode = eval_mode)\n",
    "\n",
    "res = eval_network(input_graphs[0])"
   ]
  },
  {
   "cell_type": "code",
   "execution_count": 29,
   "metadata": {},
   "outputs": [],
   "source": [
    "#help(tf.math.unsorted_segment_sum)"
   ]
  },
  {
   "cell_type": "code",
   "execution_count": 94,
   "metadata": {},
   "outputs": [
    {
     "data": {
      "text/plain": [
       "<__main__.GraphTuple at 0x7fc2b54a50b8>"
      ]
     },
     "execution_count": 94,
     "metadata": {},
     "output_type": "execute_result"
    }
   ],
   "source": [
    "functions_testing_gi = make_mlp_graphnet_functions( 15, input_size = 1, output_size = 10, graph_indep=True)\n",
    "gn_testing_gi = GraphNet(**functions_testing_gi)\n",
    "gn_testing_gi.eval_graph_tuple(graph_tuple)"
   ]
  },
  {
   "cell_type": "code",
   "execution_count": 242,
   "metadata": {},
   "outputs": [
    {
     "name": "stdout",
     "output_type": "stream",
     "text": [
      "1.3069682055107748e-12 8.589980343263096e-13\n"
     ]
    }
   ],
   "source": [
    "batch_size = 12\n",
    "tf.keras.backend.set_floatx(\"float64\")\n",
    "node_input_size = 10\n",
    "edge_input_size = node_input_size\n",
    "\n",
    "n1 = Node(np.random.randn(batch_size,node_input_size))\n",
    "n2 = Node(np.random.randn(batch_size, node_input_size))\n",
    "n3 = Node(np.random.randn(batch_size, node_input_size))\n",
    "node_abs_vals = [np.abs(n.node_attr_tensor) for n in [n1,n2,n3]]\n",
    "\n",
    "e12 = Edge(np.random.randn(batch_size, edge_input_size),node_from = n1,node_to = n2)\n",
    "e21 = Edge(np.random.randn(batch_size, edge_input_size),node_from = n2,node_to = n1)\n",
    "e23 = Edge(np.random.randn(batch_size, edge_input_size),node_from = n2,node_to = n3)\n",
    "edge_abs_vals = [np.abs(e.edge_tensor) for e in [e12,e21,e23]]\n",
    "\n",
    "g1 = Graph([n1,n2,n3],[e12,e21,e23])\n",
    "\n",
    "gi = True\n",
    "graph_fcn = make_mlp_graphnet_functions(150, input_size = node_input_size, output_size = node_input_size, graph_indep=gi)\n",
    "graph_fcn.update({\"graph_independent\" : gi})\n",
    "gn = GraphNet(**graph_fcn )\n",
    "res1 = gn.graph_eval(g1.copy(),eval_mode = \"safe\")\n",
    "res2 = gn.graph_eval(g1.copy(), eval_mode = \"batched\")\n",
    "error_nodes = np.max([np.linalg.norm(n1.node_attr_tensor - n2.node_attr_tensor) for n1, n2 in zip(res1.nodes, res2.nodes)])/np.min(node_abs_vals)\n",
    "error_edges = np.max([np.linalg.norm(e1.edge_tensor - e2.edge_tensor) for e1,e2 in zip(res1.edges, res2.edges)])/np.min(edge_abs_vals)\n",
    "\n",
    "print(error_nodes, error_edges)"
   ]
  },
  {
   "cell_type": "code",
   "execution_count": 234,
   "metadata": {},
   "outputs": [],
   "source": [
    "edge_state_output_size = 10\n",
    "edge_state_output_shape = (10,)\n",
    "x1= Input(shape = (None,*edge_state_output_shape))\n",
    "i1 = Input(shape = (1,), dtype = \"int64\")\n",
    "n_nodes = Input(shape = (None,), dtype = \"int64\")\n",
    "output = tf.math.unsorted_segment_sum(x1,i1, tf.reduce_sum(n_nodes))\n",
    "m = Model(inputs = [x1,i1,n_nodes], outputs = output)\n"
   ]
  },
  {
   "cell_type": "code",
   "execution_count": 235,
   "metadata": {},
   "outputs": [
    {
     "name": "stdout",
     "output_type": "stream",
     "text": [
      "INFO:tensorflow:Assets written to: /tmp/agg_fcn/assets\n"
     ]
    }
   ],
   "source": [
    "m.save(\"/tmp/agg_fcn\")"
   ]
  },
  {
   "cell_type": "code",
   "execution_count": 237,
   "metadata": {},
   "outputs": [
    {
     "name": "stdout",
     "output_type": "stream",
     "text": [
      "WARNING:tensorflow:No training configuration found in save file, so the model was *not* compiled. Compile it manually.\n"
     ]
    }
   ],
   "source": [
    "m2 = keras.models.load_model(\"/tmp/agg_fcn\")"
   ]
  },
  {
   "cell_type": "code",
   "execution_count": 239,
   "metadata": {},
   "outputs": [
    {
     "data": {
      "text/plain": [
       "[<tf.Tensor 'input_82_2:0' shape=(None, None, 10) dtype=float64>,\n",
       " <tf.Tensor 'input_83_2:0' shape=(None, 1) dtype=int64>,\n",
       " <tf.Tensor 'input_84_2:0' shape=(None, None) dtype=int64>]"
      ]
     },
     "execution_count": 239,
     "metadata": {},
     "output_type": "execute_result"
    }
   ],
   "source": [
    "m2.inputs"
   ]
  },
  {
   "cell_type": "code",
   "execution_count": 153,
   "metadata": {},
   "outputs": [
    {
     "data": {
      "text/plain": [
       "<tf.Tensor: shape=(12, 10), dtype=float32, numpy=\n",
       "array([[ 0.03108534,  0.17391367, -0.24829674, -0.07033135,  0.01862783,\n",
       "        -0.14595345, -0.01698177,  0.02596458, -0.06878846,  0.02918134],\n",
       "       [-0.09728964, -0.11196799, -0.2279651 , -0.00273526, -0.2798784 ,\n",
       "        -0.10469934,  0.01165986,  0.09773215, -0.1175105 ,  0.21493362],\n",
       "       [-0.21091428, -0.3506199 , -0.09562246, -0.02506188, -0.14542156,\n",
       "        -0.02671634, -0.27484632,  0.10873209, -0.24032196,  0.00211454],\n",
       "       [-0.02313604,  0.15510258, -0.3587926 ,  0.30579394, -0.49178445,\n",
       "         0.06061594,  0.2558151 , -0.17757227, -0.24366578,  0.40690148],\n",
       "       [-0.2924996 , -0.8193254 , -0.08450216,  0.13263129, -0.68790156,\n",
       "        -0.19784717, -0.6920202 ,  0.17753038, -0.4729365 ,  0.19684654],\n",
       "       [-0.06827909, -0.15766528, -0.05833822,  0.06145369, -0.25928017,\n",
       "        -0.07629173, -0.13616677,  0.05199388, -0.09221086,  0.10788022],\n",
       "       [ 0.07231128,  0.1903121 , -0.17270255, -0.08464649,  0.29578358,\n",
       "        -0.04722055, -0.00199059,  0.04107833, -0.05805327,  0.00902324],\n",
       "       [-0.2320892 , -0.71063155, -0.169878  ,  0.10603474, -0.46478787,\n",
       "        -0.23655911, -0.76996386,  0.17841917, -0.55957526,  0.15940581],\n",
       "       [-0.06434187, -0.01000776, -0.2443026 ,  0.00676603, -0.25891015,\n",
       "        -0.08776003,  0.13141066,  0.07540265, -0.07098302,  0.22204702],\n",
       "       [-0.15620692, -0.2168741 , -0.26554433, -0.17525856, -0.10714478,\n",
       "        -0.23835376, -0.47980562,  0.24128269, -0.14808129,  0.24623726],\n",
       "       [ 0.11310264,  0.54588246, -0.2554399 , -0.02083271,  0.4272706 ,\n",
       "        -0.0754177 ,  0.16114853,  0.12082753, -0.07205468, -0.21649599],\n",
       "       [-0.23736787, -0.28992435, -0.10411335,  0.0084636 ,  0.22401379,\n",
       "         0.34096113, -0.0149961 , -0.07708663, -0.5311612 , -0.2518662 ]],\n",
       "      dtype=float32)>"
      ]
     },
     "execution_count": 153,
     "metadata": {},
     "output_type": "execute_result"
    }
   ],
   "source": [
    "res2.nodes[0].node_attr_tensor"
   ]
  },
  {
   "cell_type": "code",
   "execution_count": 127,
   "metadata": {},
   "outputs": [
    {
     "ename": "SyntaxError",
     "evalue": "invalid syntax (<ipython-input-127-3eaa4e618afd>, line 1)",
     "output_type": "error",
     "traceback": [
      "\u001b[0;36m  File \u001b[0;32m\"<ipython-input-127-3eaa4e618afd>\"\u001b[0;36m, line \u001b[0;32m1\u001b[0m\n\u001b[0;31m    gn_graphindep_eval =\u001b[0m\n\u001b[0m                         ^\u001b[0m\n\u001b[0;31mSyntaxError\u001b[0m\u001b[0;31m:\u001b[0m invalid syntax\n"
     ]
    }
   ],
   "source": [
    "gn_graphindep_eval = "
   ]
  },
  {
   "cell_type": "code",
   "execution_count": 91,
   "metadata": {},
   "outputs": [
    {
     "ename": "NameError",
     "evalue": "name 'gn_testing_gi' is not defined",
     "output_type": "error",
     "traceback": [
      "\u001b[0;31m---------------------------------------------------------------------------\u001b[0m",
      "\u001b[0;31mNameError\u001b[0m                                 Traceback (most recent call last)",
      "\u001b[0;32m<ipython-input-91-6cdd65231a9a>\u001b[0m in \u001b[0;36m<module>\u001b[0;34m\u001b[0m\n\u001b[1;32m      3\u001b[0m \u001b[0mfunctions_testing\u001b[0m \u001b[0;34m=\u001b[0m \u001b[0mmake_mlp_graphnet_functions\u001b[0m\u001b[0;34m(\u001b[0m \u001b[0;36m15\u001b[0m\u001b[0;34m,\u001b[0m \u001b[0minput_size\u001b[0m \u001b[0;34m=\u001b[0m \u001b[0;36m1\u001b[0m\u001b[0;34m,\u001b[0m \u001b[0moutput_size\u001b[0m \u001b[0;34m=\u001b[0m \u001b[0;36m10\u001b[0m\u001b[0;34m)\u001b[0m\u001b[0;34m\u001b[0m\u001b[0;34m\u001b[0m\u001b[0m\n\u001b[1;32m      4\u001b[0m \u001b[0mgn_testing\u001b[0m \u001b[0;34m=\u001b[0m \u001b[0mGraphNet\u001b[0m\u001b[0;34m(\u001b[0m\u001b[0;34m**\u001b[0m\u001b[0mfunctions_testing\u001b[0m\u001b[0;34m)\u001b[0m\u001b[0;34m\u001b[0m\u001b[0;34m\u001b[0m\u001b[0m\n\u001b[0;32m----> 5\u001b[0;31m \u001b[0mgn_testing_gi\u001b[0m\u001b[0;34m.\u001b[0m\u001b[0mnodes\u001b[0m\u001b[0;34m\u001b[0m\u001b[0;34m\u001b[0m\u001b[0m\n\u001b[0m\u001b[1;32m      6\u001b[0m \u001b[0;31m#gn_testing.edge_function(graph_tuple.edges)\u001b[0m\u001b[0;34m\u001b[0m\u001b[0;34m\u001b[0m\u001b[0;34m\u001b[0m\u001b[0m\n\u001b[1;32m      7\u001b[0m \u001b[0;31m#gn_testing.edge_function.summary()\u001b[0m\u001b[0;34m\u001b[0m\u001b[0;34m\u001b[0m\u001b[0;34m\u001b[0m\u001b[0m\n",
      "\u001b[0;31mNameError\u001b[0m: name 'gn_testing_gi' is not defined"
     ]
    }
   ],
   "source": [
    "## \n",
    "functions_testing_gi = make_mlp_graphnet_functions( 15, input_size = 1, output_size = 10, graph_indep=True)\n",
    "functions_testing = make_mlp_graphnet_functions( 15, input_size = 1, output_size = 10)\n",
    "gn_testing = GraphNet(**functions_testing)\n",
    "gn_testing_gi.nodes\n",
    "#gn_testing.edge_function(graph_tuple.edges)\n",
    "#gn_testing.edge_function.summary()\n",
    "#def eval_edge_block(graphnet, graph_tuple):\n",
    "#    sender_nodes = tf.stack()\n",
    "#gn_testing.\n",
    "#graph_tuple.nodes[graph_tuple.senders]\n",
    "#help(tf.gather)#(graph_tuple.senders)\n",
    "#graph_tuple.nodes\n",
    "\n",
    "# Edge block (with sender and receiver nodes)\n",
    "senders_ = tf.gather(graph_tuple.nodes,graph_tuple.senders)\n",
    "receivers_ = tf.gather(graph_tuple.nodes,graph_tuple.receivers)\n",
    "edge_features = graph_tuple.edges\n",
    "edge_block_out = gn_testing.edge_function([edge_features,senders_,receivers_])\n",
    "\n",
    "edge_to_nodes = tf.math.unsorted_segment_mean(edge_block_out, graph_tuple.receivers, np.sum(graph_tuple.n_nodes))\n",
    "#gn_testing.node_function()\n",
    "\n",
    "# # The following creates a receiver or a node aggregator.\n",
    "# def EdgeToNodeAggregatorFactory(reducer_function = \"mean\",target = \"receiver\"):\n",
    "#     assert(target in [\"receiver\",\"source\"])\n",
    "#     assert(reducer_function in [\"mean\", \"sum\",\"max\",\"min\"])\n",
    "    \n",
    "#     def mean_aggregator(graph_tuple,edge_block_output)\n",
    "#         \"\"\"\n",
    "#         Depending on whether this is a receiver or a sender aggregator, the \n",
    "#         \"\"\"\n",
    "#         if target == \"receivers\":\n",
    "#             aggregated_edge_messages = tf.math.unsorted_segment_mean(edge_block_out, graph_tuple.receivers, np.sum(graph_tuple.n_nodes))\n",
    "            \n",
    "#         if target == \"senders\":\n",
    "#             aggregated_edge_messages = tf.math.unsorted_segment_mean(edge_block_out, graph_tuple.senders, np.sum(graph_tuple.n_nodes))\n",
    "#         return aggregated_edge_messages\n",
    "        \n",
    "#     return \n",
    "    \n",
    "\n",
    "# Node block:\n",
    "# * aggregate for receivers\n",
    "#help(tf.gather)# edge_block_out\n",
    "#tf.gather()\n",
    "# Stack the node input:\n"
   ]
  },
  {
   "cell_type": "code",
   "execution_count": 90,
   "metadata": {},
   "outputs": [
    {
     "name": "stdout",
     "output_type": "stream",
     "text": [
      "WARNING:tensorflow:Model was constructed with shape (None, 1) for input Tensor(\"edge_state_agg_19:0\", shape=(None, 1), dtype=float32), but it was called on an input with incompatible shape (7630, 10).\n"
     ]
    },
    {
     "ename": "InvalidArgumentError",
     "evalue": "Matrix size-incompatible: In[0]: [7630,11], In[1]: [2,15] [Op:MatMul]",
     "output_type": "error",
     "traceback": [
      "\u001b[0;31m---------------------------------------------------------------------------\u001b[0m",
      "\u001b[0;31mInvalidArgumentError\u001b[0m                      Traceback (most recent call last)",
      "\u001b[0;32m<ipython-input-90-13d4e413fc1f>\u001b[0m in \u001b[0;36m<module>\u001b[0;34m\u001b[0m\n\u001b[0;32m----> 1\u001b[0;31m \u001b[0mnodes_res\u001b[0m \u001b[0;34m=\u001b[0m \u001b[0mgn_testing\u001b[0m\u001b[0;34m.\u001b[0m\u001b[0mnode_function\u001b[0m\u001b[0;34m(\u001b[0m\u001b[0;34m[\u001b[0m \u001b[0medge_to_nodes\u001b[0m\u001b[0;34m,\u001b[0m \u001b[0mgraph_tuple\u001b[0m\u001b[0;34m.\u001b[0m\u001b[0mnodes\u001b[0m\u001b[0;34m]\u001b[0m\u001b[0;34m)\u001b[0m\u001b[0;34m\u001b[0m\u001b[0;34m\u001b[0m\u001b[0m\n\u001b[0m",
      "\u001b[0;32m~/.local/lib/python3.6/site-packages/tensorflow/python/keras/engine/base_layer.py\u001b[0m in \u001b[0;36m__call__\u001b[0;34m(self, *args, **kwargs)\u001b[0m\n\u001b[1;32m    966\u001b[0m           with base_layer_utils.autocast_context_manager(\n\u001b[1;32m    967\u001b[0m               self._compute_dtype):\n\u001b[0;32m--> 968\u001b[0;31m             \u001b[0moutputs\u001b[0m \u001b[0;34m=\u001b[0m \u001b[0mself\u001b[0m\u001b[0;34m.\u001b[0m\u001b[0mcall\u001b[0m\u001b[0;34m(\u001b[0m\u001b[0mcast_inputs\u001b[0m\u001b[0;34m,\u001b[0m \u001b[0;34m*\u001b[0m\u001b[0margs\u001b[0m\u001b[0;34m,\u001b[0m \u001b[0;34m**\u001b[0m\u001b[0mkwargs\u001b[0m\u001b[0;34m)\u001b[0m\u001b[0;34m\u001b[0m\u001b[0;34m\u001b[0m\u001b[0m\n\u001b[0m\u001b[1;32m    969\u001b[0m           \u001b[0mself\u001b[0m\u001b[0;34m.\u001b[0m\u001b[0m_handle_activity_regularization\u001b[0m\u001b[0;34m(\u001b[0m\u001b[0minputs\u001b[0m\u001b[0;34m,\u001b[0m \u001b[0moutputs\u001b[0m\u001b[0;34m)\u001b[0m\u001b[0;34m\u001b[0m\u001b[0;34m\u001b[0m\u001b[0m\n\u001b[1;32m    970\u001b[0m           \u001b[0mself\u001b[0m\u001b[0;34m.\u001b[0m\u001b[0m_set_mask_metadata\u001b[0m\u001b[0;34m(\u001b[0m\u001b[0minputs\u001b[0m\u001b[0;34m,\u001b[0m \u001b[0moutputs\u001b[0m\u001b[0;34m,\u001b[0m \u001b[0minput_masks\u001b[0m\u001b[0;34m)\u001b[0m\u001b[0;34m\u001b[0m\u001b[0;34m\u001b[0m\u001b[0m\n",
      "\u001b[0;32m~/.local/lib/python3.6/site-packages/tensorflow/python/keras/engine/network.py\u001b[0m in \u001b[0;36mcall\u001b[0;34m(self, inputs, training, mask)\u001b[0m\n\u001b[1;32m    717\u001b[0m     return self._run_internal_graph(\n\u001b[1;32m    718\u001b[0m         \u001b[0minputs\u001b[0m\u001b[0;34m,\u001b[0m \u001b[0mtraining\u001b[0m\u001b[0;34m=\u001b[0m\u001b[0mtraining\u001b[0m\u001b[0;34m,\u001b[0m \u001b[0mmask\u001b[0m\u001b[0;34m=\u001b[0m\u001b[0mmask\u001b[0m\u001b[0;34m,\u001b[0m\u001b[0;34m\u001b[0m\u001b[0;34m\u001b[0m\u001b[0m\n\u001b[0;32m--> 719\u001b[0;31m         convert_kwargs_to_constants=base_layer_utils.call_context().saving)\n\u001b[0m\u001b[1;32m    720\u001b[0m \u001b[0;34m\u001b[0m\u001b[0m\n\u001b[1;32m    721\u001b[0m   \u001b[0;32mdef\u001b[0m \u001b[0mcompute_output_shape\u001b[0m\u001b[0;34m(\u001b[0m\u001b[0mself\u001b[0m\u001b[0;34m,\u001b[0m \u001b[0minput_shape\u001b[0m\u001b[0;34m)\u001b[0m\u001b[0;34m:\u001b[0m\u001b[0;34m\u001b[0m\u001b[0;34m\u001b[0m\u001b[0m\n",
      "\u001b[0;32m~/.local/lib/python3.6/site-packages/tensorflow/python/keras/engine/network.py\u001b[0m in \u001b[0;36m_run_internal_graph\u001b[0;34m(self, inputs, training, mask, convert_kwargs_to_constants)\u001b[0m\n\u001b[1;32m    886\u001b[0m \u001b[0;34m\u001b[0m\u001b[0m\n\u001b[1;32m    887\u001b[0m           \u001b[0;31m# Compute outputs.\u001b[0m\u001b[0;34m\u001b[0m\u001b[0;34m\u001b[0m\u001b[0;34m\u001b[0m\u001b[0m\n\u001b[0;32m--> 888\u001b[0;31m           \u001b[0moutput_tensors\u001b[0m \u001b[0;34m=\u001b[0m \u001b[0mlayer\u001b[0m\u001b[0;34m(\u001b[0m\u001b[0mcomputed_tensors\u001b[0m\u001b[0;34m,\u001b[0m \u001b[0;34m**\u001b[0m\u001b[0mkwargs\u001b[0m\u001b[0;34m)\u001b[0m\u001b[0;34m\u001b[0m\u001b[0;34m\u001b[0m\u001b[0m\n\u001b[0m\u001b[1;32m    889\u001b[0m \u001b[0;34m\u001b[0m\u001b[0m\n\u001b[1;32m    890\u001b[0m           \u001b[0;31m# Update tensor_dict.\u001b[0m\u001b[0;34m\u001b[0m\u001b[0;34m\u001b[0m\u001b[0;34m\u001b[0m\u001b[0m\n",
      "\u001b[0;32m~/.local/lib/python3.6/site-packages/tensorflow/python/keras/engine/base_layer.py\u001b[0m in \u001b[0;36m__call__\u001b[0;34m(self, *args, **kwargs)\u001b[0m\n\u001b[1;32m    966\u001b[0m           with base_layer_utils.autocast_context_manager(\n\u001b[1;32m    967\u001b[0m               self._compute_dtype):\n\u001b[0;32m--> 968\u001b[0;31m             \u001b[0moutputs\u001b[0m \u001b[0;34m=\u001b[0m \u001b[0mself\u001b[0m\u001b[0;34m.\u001b[0m\u001b[0mcall\u001b[0m\u001b[0;34m(\u001b[0m\u001b[0mcast_inputs\u001b[0m\u001b[0;34m,\u001b[0m \u001b[0;34m*\u001b[0m\u001b[0margs\u001b[0m\u001b[0;34m,\u001b[0m \u001b[0;34m**\u001b[0m\u001b[0mkwargs\u001b[0m\u001b[0;34m)\u001b[0m\u001b[0;34m\u001b[0m\u001b[0;34m\u001b[0m\u001b[0m\n\u001b[0m\u001b[1;32m    969\u001b[0m           \u001b[0mself\u001b[0m\u001b[0;34m.\u001b[0m\u001b[0m_handle_activity_regularization\u001b[0m\u001b[0;34m(\u001b[0m\u001b[0minputs\u001b[0m\u001b[0;34m,\u001b[0m \u001b[0moutputs\u001b[0m\u001b[0;34m)\u001b[0m\u001b[0;34m\u001b[0m\u001b[0;34m\u001b[0m\u001b[0m\n\u001b[1;32m    970\u001b[0m           \u001b[0mself\u001b[0m\u001b[0;34m.\u001b[0m\u001b[0m_set_mask_metadata\u001b[0m\u001b[0;34m(\u001b[0m\u001b[0minputs\u001b[0m\u001b[0;34m,\u001b[0m \u001b[0moutputs\u001b[0m\u001b[0;34m,\u001b[0m \u001b[0minput_masks\u001b[0m\u001b[0;34m)\u001b[0m\u001b[0;34m\u001b[0m\u001b[0;34m\u001b[0m\u001b[0m\n",
      "\u001b[0;32m~/.local/lib/python3.6/site-packages/tensorflow/python/keras/layers/core.py\u001b[0m in \u001b[0;36mcall\u001b[0;34m(self, inputs)\u001b[0m\n\u001b[1;32m   1192\u001b[0m         \u001b[0moutputs\u001b[0m \u001b[0;34m=\u001b[0m \u001b[0msparse_ops\u001b[0m\u001b[0;34m.\u001b[0m\u001b[0msparse_tensor_dense_matmul\u001b[0m\u001b[0;34m(\u001b[0m\u001b[0minputs\u001b[0m\u001b[0;34m,\u001b[0m \u001b[0mself\u001b[0m\u001b[0;34m.\u001b[0m\u001b[0mkernel\u001b[0m\u001b[0;34m)\u001b[0m\u001b[0;34m\u001b[0m\u001b[0;34m\u001b[0m\u001b[0m\n\u001b[1;32m   1193\u001b[0m       \u001b[0;32melse\u001b[0m\u001b[0;34m:\u001b[0m\u001b[0;34m\u001b[0m\u001b[0;34m\u001b[0m\u001b[0m\n\u001b[0;32m-> 1194\u001b[0;31m         \u001b[0moutputs\u001b[0m \u001b[0;34m=\u001b[0m \u001b[0mgen_math_ops\u001b[0m\u001b[0;34m.\u001b[0m\u001b[0mmat_mul\u001b[0m\u001b[0;34m(\u001b[0m\u001b[0minputs\u001b[0m\u001b[0;34m,\u001b[0m \u001b[0mself\u001b[0m\u001b[0;34m.\u001b[0m\u001b[0mkernel\u001b[0m\u001b[0;34m)\u001b[0m\u001b[0;34m\u001b[0m\u001b[0;34m\u001b[0m\u001b[0m\n\u001b[0m\u001b[1;32m   1195\u001b[0m     \u001b[0;32mif\u001b[0m \u001b[0mself\u001b[0m\u001b[0;34m.\u001b[0m\u001b[0muse_bias\u001b[0m\u001b[0;34m:\u001b[0m\u001b[0;34m\u001b[0m\u001b[0;34m\u001b[0m\u001b[0m\n\u001b[1;32m   1196\u001b[0m       \u001b[0moutputs\u001b[0m \u001b[0;34m=\u001b[0m \u001b[0mnn\u001b[0m\u001b[0;34m.\u001b[0m\u001b[0mbias_add\u001b[0m\u001b[0;34m(\u001b[0m\u001b[0moutputs\u001b[0m\u001b[0;34m,\u001b[0m \u001b[0mself\u001b[0m\u001b[0;34m.\u001b[0m\u001b[0mbias\u001b[0m\u001b[0;34m)\u001b[0m\u001b[0;34m\u001b[0m\u001b[0;34m\u001b[0m\u001b[0m\n",
      "\u001b[0;32m~/.local/lib/python3.6/site-packages/tensorflow/python/ops/gen_math_ops.py\u001b[0m in \u001b[0;36mmat_mul\u001b[0;34m(a, b, transpose_a, transpose_b, name)\u001b[0m\n\u001b[1;32m   5575\u001b[0m         \u001b[0;32mpass\u001b[0m  \u001b[0;31m# Add nodes to the TensorFlow graph.\u001b[0m\u001b[0;34m\u001b[0m\u001b[0;34m\u001b[0m\u001b[0m\n\u001b[1;32m   5576\u001b[0m     \u001b[0;32mexcept\u001b[0m \u001b[0m_core\u001b[0m\u001b[0;34m.\u001b[0m\u001b[0m_NotOkStatusException\u001b[0m \u001b[0;32mas\u001b[0m \u001b[0me\u001b[0m\u001b[0;34m:\u001b[0m\u001b[0;34m\u001b[0m\u001b[0;34m\u001b[0m\u001b[0m\n\u001b[0;32m-> 5577\u001b[0;31m       \u001b[0m_ops\u001b[0m\u001b[0;34m.\u001b[0m\u001b[0mraise_from_not_ok_status\u001b[0m\u001b[0;34m(\u001b[0m\u001b[0me\u001b[0m\u001b[0;34m,\u001b[0m \u001b[0mname\u001b[0m\u001b[0;34m)\u001b[0m\u001b[0;34m\u001b[0m\u001b[0;34m\u001b[0m\u001b[0m\n\u001b[0m\u001b[1;32m   5578\u001b[0m   \u001b[0;31m# Add nodes to the TensorFlow graph.\u001b[0m\u001b[0;34m\u001b[0m\u001b[0;34m\u001b[0m\u001b[0;34m\u001b[0m\u001b[0m\n\u001b[1;32m   5579\u001b[0m   \u001b[0;32mif\u001b[0m \u001b[0mtranspose_a\u001b[0m \u001b[0;32mis\u001b[0m \u001b[0;32mNone\u001b[0m\u001b[0;34m:\u001b[0m\u001b[0;34m\u001b[0m\u001b[0;34m\u001b[0m\u001b[0m\n",
      "\u001b[0;32m~/.local/lib/python3.6/site-packages/tensorflow/python/framework/ops.py\u001b[0m in \u001b[0;36mraise_from_not_ok_status\u001b[0;34m(e, name)\u001b[0m\n\u001b[1;32m   6651\u001b[0m   \u001b[0mmessage\u001b[0m \u001b[0;34m=\u001b[0m \u001b[0me\u001b[0m\u001b[0;34m.\u001b[0m\u001b[0mmessage\u001b[0m \u001b[0;34m+\u001b[0m \u001b[0;34m(\u001b[0m\u001b[0;34m\" name: \"\u001b[0m \u001b[0;34m+\u001b[0m \u001b[0mname\u001b[0m \u001b[0;32mif\u001b[0m \u001b[0mname\u001b[0m \u001b[0;32mis\u001b[0m \u001b[0;32mnot\u001b[0m \u001b[0;32mNone\u001b[0m \u001b[0;32melse\u001b[0m \u001b[0;34m\"\"\u001b[0m\u001b[0;34m)\u001b[0m\u001b[0;34m\u001b[0m\u001b[0;34m\u001b[0m\u001b[0m\n\u001b[1;32m   6652\u001b[0m   \u001b[0;31m# pylint: disable=protected-access\u001b[0m\u001b[0;34m\u001b[0m\u001b[0;34m\u001b[0m\u001b[0;34m\u001b[0m\u001b[0m\n\u001b[0;32m-> 6653\u001b[0;31m   \u001b[0msix\u001b[0m\u001b[0;34m.\u001b[0m\u001b[0mraise_from\u001b[0m\u001b[0;34m(\u001b[0m\u001b[0mcore\u001b[0m\u001b[0;34m.\u001b[0m\u001b[0m_status_to_exception\u001b[0m\u001b[0;34m(\u001b[0m\u001b[0me\u001b[0m\u001b[0;34m.\u001b[0m\u001b[0mcode\u001b[0m\u001b[0;34m,\u001b[0m \u001b[0mmessage\u001b[0m\u001b[0;34m)\u001b[0m\u001b[0;34m,\u001b[0m \u001b[0;32mNone\u001b[0m\u001b[0;34m)\u001b[0m\u001b[0;34m\u001b[0m\u001b[0;34m\u001b[0m\u001b[0m\n\u001b[0m\u001b[1;32m   6654\u001b[0m   \u001b[0;31m# pylint: enable=protected-access\u001b[0m\u001b[0;34m\u001b[0m\u001b[0;34m\u001b[0m\u001b[0;34m\u001b[0m\u001b[0m\n\u001b[1;32m   6655\u001b[0m \u001b[0;34m\u001b[0m\u001b[0m\n",
      "\u001b[0;32m~/.local/lib/python3.6/site-packages/six.py\u001b[0m in \u001b[0;36mraise_from\u001b[0;34m(value, from_value)\u001b[0m\n",
      "\u001b[0;31mInvalidArgumentError\u001b[0m: Matrix size-incompatible: In[0]: [7630,11], In[1]: [2,15] [Op:MatMul]"
     ]
    }
   ],
   "source": [
    "nodes_res = gn_testing.node_function([ edge_to_nodes, graph_tuple.nodes])"
   ]
  },
  {
   "cell_type": "code",
   "execution_count": null,
   "metadata": {},
   "outputs": [],
   "source": []
  },
  {
   "cell_type": "code",
   "execution_count": 46,
   "metadata": {},
   "outputs": [
    {
     "name": "stdout",
     "output_type": "stream",
     "text": [
      "Model: \"model_19\"\n",
      "__________________________________________________________________________________________________\n",
      "Layer (type)                    Output Shape         Param #     Connected to                     \n",
      "==================================================================================================\n",
      "edge_state_agg (InputLayer)     [(None, 1)]          0                                            \n",
      "__________________________________________________________________________________________________\n",
      "node_state (InputLayer)         [(None, 1)]          0                                            \n",
      "__________________________________________________________________________________________________\n",
      "concatenate_11 (Concatenate)    (None, 2)            0           edge_state_agg[0][0]             \n",
      "                                                                 node_state[0][0]                 \n",
      "__________________________________________________________________________________________________\n",
      "dense_60 (Dense)                (None, 15)           45          concatenate_11[0][0]             \n",
      "__________________________________________________________________________________________________\n",
      "dropout_30 (Dropout)            (None, 15)           0           dense_60[0][0]                   \n",
      "__________________________________________________________________________________________________\n",
      "dense_61 (Dense)                (None, 15)           240         dropout_30[0][0]                 \n",
      "__________________________________________________________________________________________________\n",
      "dropout_31 (Dropout)            (None, 15)           0           dense_61[0][0]                   \n",
      "__________________________________________________________________________________________________\n",
      "dense_62 (Dense)                (None, 15)           240         dropout_31[0][0]                 \n",
      "__________________________________________________________________________________________________\n",
      "dense_63 (Dense)                (None, 10)           160         dense_62[0][0]                   \n",
      "==================================================================================================\n",
      "Total params: 685\n",
      "Trainable params: 685\n",
      "Non-trainable params: 0\n",
      "__________________________________________________________________________________________________\n"
     ]
    }
   ],
   "source": []
  },
  {
   "cell_type": "code",
   "execution_count": 45,
   "metadata": {},
   "outputs": [
    {
     "data": {
      "text/plain": [
       "<graphnet_utils.GraphNet at 0x7fc2b63ea198>"
      ]
     },
     "execution_count": 45,
     "metadata": {},
     "output_type": "execute_result"
    }
   ],
   "source": []
  },
  {
   "cell_type": "code",
   "execution_count": 63,
   "metadata": {},
   "outputs": [
    {
     "name": "stdout",
     "output_type": "stream",
     "text": [
      "Help on function unsorted_segment_max in module tensorflow.python.ops.gen_math_ops:\n",
      "\n",
      "unsorted_segment_max(data, segment_ids, num_segments, name=None)\n",
      "    Computes the maximum along segments of a tensor.\n",
      "    \n",
      "    Read\n",
      "    [the section on segmentation](https://tensorflow.org/api_docs/python/tf/math#Segmentation)\n",
      "    for an explanation of segments.\n",
      "    \n",
      "    This operator is similar to the unsorted segment sum operator found\n",
      "    [(here)](../../../api_docs/python/math_ops.md#UnsortedSegmentSum).\n",
      "    Instead of computing the sum over segments, it computes the maximum such that:\n",
      "    \n",
      "    \\\\(output_i = \\max_{j...} data[j...]\\\\) where max is over tuples `j...` such\n",
      "    that `segment_ids[j...] == i`.\n",
      "    \n",
      "    If the maximum is empty for a given segment ID `i`, it outputs the smallest\n",
      "    possible value for the specific numeric type,\n",
      "    `output[i] = numeric_limits<T>::lowest()`.\n",
      "    \n",
      "    If the given segment ID `i` is negative, then the corresponding value is\n",
      "    dropped, and will not be included in the result.\n",
      "    \n",
      "    <div style=\"width:70%; margin:auto; margin-bottom:10px; margin-top:20px;\">\n",
      "    <img style=\"width:100%\" src=\"https://www.tensorflow.org/images/UnsortedSegmentMax.png\" alt>\n",
      "    </div>\n",
      "    \n",
      "    For example:\n",
      "    \n",
      "    ``` python\n",
      "    c = tf.constant([[1,2,3,4], [5,6,7,8], [4,3,2,1]])\n",
      "    tf.unsorted_segment_max(c, tf.constant([0, 1, 0]), num_segments=2)\n",
      "    # ==> [[ 4,  3, 3, 4],\n",
      "    #       [5,  6, 7, 8]]\n",
      "    ```\n",
      "    \n",
      "    Args:\n",
      "      data: A `Tensor`. Must be one of the following types: `float32`, `float64`, `int32`, `uint8`, `int16`, `int8`, `int64`, `bfloat16`, `uint16`, `half`, `uint32`, `uint64`.\n",
      "      segment_ids: A `Tensor`. Must be one of the following types: `int32`, `int64`.\n",
      "        A tensor whose shape is a prefix of `data.shape`.\n",
      "      num_segments: A `Tensor`. Must be one of the following types: `int32`, `int64`.\n",
      "      name: A name for the operation (optional).\n",
      "    \n",
      "    Returns:\n",
      "      A `Tensor`. Has the same type as `data`.\n",
      "\n"
     ]
    }
   ],
   "source": [
    "help(tf.math.unsorted_segment_max)"
   ]
  },
  {
   "cell_type": "code",
   "execution_count": 45,
   "metadata": {},
   "outputs": [
    {
     "data": {
      "text/plain": [
       "(847, 847)"
      ]
     },
     "execution_count": 45,
     "metadata": {},
     "output_type": "execute_result"
    }
   ],
   "source": [
    "\n",
    "output_graphs[0].nodes.__len__() , input_graphs[0].nodes.__len__()\n"
   ]
  },
  {
   "cell_type": "code",
   "execution_count": 198,
   "metadata": {},
   "outputs": [
    {
     "name": "stderr",
     "output_type": "stream",
     "text": [
      "\n",
      "\n",
      "\n",
      "\n",
      "\n",
      "\n",
      "  0%|          | 0/100 [00:00<?, ?it/s]\u001b[A\u001b[A\u001b[A\u001b[A\u001b[A\u001b[A"
     ]
    },
    {
     "name": "stdout",
     "output_type": "stream",
     "text": [
      "WARNING:tensorflow:Gradients do not exist for variables ['dense_88/kernel:0', 'dense_88/bias:0', 'dense_89/kernel:0', 'dense_89/bias:0', 'dense_90/kernel:0', 'dense_90/bias:0', 'dense_91/kernel:0', 'dense_91/bias:0'] when minimizing the loss.\n"
     ]
    },
    {
     "name": "stderr",
     "output_type": "stream",
     "text": [
      "\n",
      "\n",
      "\n",
      "\n",
      "\n",
      "\n",
      "  1%|          | 1/100 [00:27<44:38, 27.06s/it]\u001b[A\u001b[A\u001b[A\u001b[A\u001b[A\u001b[A"
     ]
    },
    {
     "name": "stdout",
     "output_type": "stream",
     "text": [
      "tf.Tensor(0.30039755, shape=(), dtype=float32)\n",
      "WARNING:tensorflow:Gradients do not exist for variables ['dense_88/kernel:0', 'dense_88/bias:0', 'dense_89/kernel:0', 'dense_89/bias:0', 'dense_90/kernel:0', 'dense_90/bias:0', 'dense_91/kernel:0', 'dense_91/bias:0'] when minimizing the loss.\n"
     ]
    },
    {
     "name": "stderr",
     "output_type": "stream",
     "text": [
      "\n",
      "\n",
      "\n",
      "\n",
      "\n",
      "\n",
      "  2%|▏         | 2/100 [00:53<43:53, 26.88s/it]\u001b[A\u001b[A\u001b[A\u001b[A\u001b[A\u001b[A"
     ]
    },
    {
     "name": "stdout",
     "output_type": "stream",
     "text": [
      "tf.Tensor(0.28872758, shape=(), dtype=float32)\n",
      "WARNING:tensorflow:Gradients do not exist for variables ['dense_88/kernel:0', 'dense_88/bias:0', 'dense_89/kernel:0', 'dense_89/bias:0', 'dense_90/kernel:0', 'dense_90/bias:0', 'dense_91/kernel:0', 'dense_91/bias:0'] when minimizing the loss.\n"
     ]
    },
    {
     "name": "stderr",
     "output_type": "stream",
     "text": [
      "\n",
      "\n",
      "\n",
      "\n",
      "\n",
      "\n",
      "  3%|▎         | 3/100 [01:19<43:04, 26.64s/it]\u001b[A\u001b[A\u001b[A\u001b[A\u001b[A\u001b[A"
     ]
    },
    {
     "name": "stdout",
     "output_type": "stream",
     "text": [
      "tf.Tensor(0.27718493, shape=(), dtype=float32)\n",
      "WARNING:tensorflow:Gradients do not exist for variables ['dense_88/kernel:0', 'dense_88/bias:0', 'dense_89/kernel:0', 'dense_89/bias:0', 'dense_90/kernel:0', 'dense_90/bias:0', 'dense_91/kernel:0', 'dense_91/bias:0'] when minimizing the loss.\n"
     ]
    },
    {
     "name": "stderr",
     "output_type": "stream",
     "text": [
      "\n",
      "\n",
      "\n",
      "\n",
      "\n",
      "\n",
      "  4%|▍         | 4/100 [01:45<42:08, 26.34s/it]\u001b[A\u001b[A\u001b[A\u001b[A\u001b[A\u001b[A"
     ]
    },
    {
     "name": "stdout",
     "output_type": "stream",
     "text": [
      "tf.Tensor(0.27624598, shape=(), dtype=float32)\n",
      "WARNING:tensorflow:Gradients do not exist for variables ['dense_88/kernel:0', 'dense_88/bias:0', 'dense_89/kernel:0', 'dense_89/bias:0', 'dense_90/kernel:0', 'dense_90/bias:0', 'dense_91/kernel:0', 'dense_91/bias:0'] when minimizing the loss.\n"
     ]
    },
    {
     "name": "stderr",
     "output_type": "stream",
     "text": [
      "\n",
      "\n",
      "\n",
      "\n",
      "\n",
      "\n",
      "  5%|▌         | 5/100 [02:11<41:46, 26.38s/it]\u001b[A\u001b[A\u001b[A\u001b[A\u001b[A\u001b[A"
     ]
    },
    {
     "name": "stdout",
     "output_type": "stream",
     "text": [
      "tf.Tensor(0.2690436, shape=(), dtype=float32)\n",
      "WARNING:tensorflow:Gradients do not exist for variables ['dense_88/kernel:0', 'dense_88/bias:0', 'dense_89/kernel:0', 'dense_89/bias:0', 'dense_90/kernel:0', 'dense_90/bias:0', 'dense_91/kernel:0', 'dense_91/bias:0'] when minimizing the loss.\n"
     ]
    },
    {
     "name": "stderr",
     "output_type": "stream",
     "text": [
      "\n",
      "\n",
      "\n",
      "\n",
      "\n",
      "\n",
      "  6%|▌         | 6/100 [02:37<41:12, 26.31s/it]\u001b[A\u001b[A\u001b[A\u001b[A\u001b[A\u001b[A"
     ]
    },
    {
     "name": "stdout",
     "output_type": "stream",
     "text": [
      "tf.Tensor(0.26637098, shape=(), dtype=float32)\n",
      "WARNING:tensorflow:Gradients do not exist for variables ['dense_88/kernel:0', 'dense_88/bias:0', 'dense_89/kernel:0', 'dense_89/bias:0', 'dense_90/kernel:0', 'dense_90/bias:0', 'dense_91/kernel:0', 'dense_91/bias:0'] when minimizing the loss.\n"
     ]
    },
    {
     "name": "stderr",
     "output_type": "stream",
     "text": [
      "\n",
      "\n",
      "\n",
      "\n",
      "\n",
      "\n",
      "  7%|▋         | 7/100 [03:05<41:11, 26.57s/it]\u001b[A\u001b[A\u001b[A\u001b[A\u001b[A\u001b[A"
     ]
    },
    {
     "name": "stdout",
     "output_type": "stream",
     "text": [
      "tf.Tensor(0.26626936, shape=(), dtype=float32)\n",
      "WARNING:tensorflow:Gradients do not exist for variables ['dense_88/kernel:0', 'dense_88/bias:0', 'dense_89/kernel:0', 'dense_89/bias:0', 'dense_90/kernel:0', 'dense_90/bias:0', 'dense_91/kernel:0', 'dense_91/bias:0'] when minimizing the loss.\n"
     ]
    },
    {
     "name": "stderr",
     "output_type": "stream",
     "text": [
      "\n",
      "\n",
      "\n",
      "\n",
      "\n",
      "\n",
      "  8%|▊         | 8/100 [03:33<41:32, 27.09s/it]\u001b[A\u001b[A\u001b[A\u001b[A\u001b[A\u001b[A"
     ]
    },
    {
     "name": "stdout",
     "output_type": "stream",
     "text": [
      "tf.Tensor(0.26273796, shape=(), dtype=float32)\n",
      "WARNING:tensorflow:Gradients do not exist for variables ['dense_88/kernel:0', 'dense_88/bias:0', 'dense_89/kernel:0', 'dense_89/bias:0', 'dense_90/kernel:0', 'dense_90/bias:0', 'dense_91/kernel:0', 'dense_91/bias:0'] when minimizing the loss.\n"
     ]
    },
    {
     "name": "stderr",
     "output_type": "stream",
     "text": [
      "\n",
      "\n",
      "\n",
      "\n",
      "\n",
      "\n",
      "  9%|▉         | 9/100 [04:00<40:56, 27.00s/it]\u001b[A\u001b[A\u001b[A\u001b[A\u001b[A\u001b[A"
     ]
    },
    {
     "name": "stdout",
     "output_type": "stream",
     "text": [
      "tf.Tensor(0.26314235, shape=(), dtype=float32)\n",
      "WARNING:tensorflow:Gradients do not exist for variables ['dense_88/kernel:0', 'dense_88/bias:0', 'dense_89/kernel:0', 'dense_89/bias:0', 'dense_90/kernel:0', 'dense_90/bias:0', 'dense_91/kernel:0', 'dense_91/bias:0'] when minimizing the loss.\n"
     ]
    },
    {
     "name": "stderr",
     "output_type": "stream",
     "text": [
      "\n",
      "\n",
      "\n",
      "\n",
      "\n",
      "\n",
      " 10%|█         | 10/100 [04:28<41:15, 27.51s/it]\u001b[A\u001b[A\u001b[A\u001b[A\u001b[A\u001b[A"
     ]
    },
    {
     "name": "stdout",
     "output_type": "stream",
     "text": [
      "tf.Tensor(0.26440924, shape=(), dtype=float32)\n",
      "WARNING:tensorflow:Gradients do not exist for variables ['dense_88/kernel:0', 'dense_88/bias:0', 'dense_89/kernel:0', 'dense_89/bias:0', 'dense_90/kernel:0', 'dense_90/bias:0', 'dense_91/kernel:0', 'dense_91/bias:0'] when minimizing the loss.\n"
     ]
    },
    {
     "name": "stderr",
     "output_type": "stream",
     "text": [
      "\n",
      "\n",
      "\n",
      "\n",
      "\n",
      "\n",
      " 11%|█         | 11/100 [04:57<41:09, 27.75s/it]\u001b[A\u001b[A\u001b[A\u001b[A\u001b[A\u001b[A"
     ]
    },
    {
     "name": "stdout",
     "output_type": "stream",
     "text": [
      "tf.Tensor(0.26283118, shape=(), dtype=float32)\n",
      "WARNING:tensorflow:Gradients do not exist for variables ['dense_88/kernel:0', 'dense_88/bias:0', 'dense_89/kernel:0', 'dense_89/bias:0', 'dense_90/kernel:0', 'dense_90/bias:0', 'dense_91/kernel:0', 'dense_91/bias:0'] when minimizing the loss.\n"
     ]
    },
    {
     "name": "stderr",
     "output_type": "stream",
     "text": [
      "\n",
      "\n",
      "\n",
      "\n",
      "\n",
      "\n",
      " 12%|█▏        | 12/100 [05:23<39:59, 27.27s/it]\u001b[A\u001b[A\u001b[A\u001b[A\u001b[A\u001b[A"
     ]
    },
    {
     "name": "stdout",
     "output_type": "stream",
     "text": [
      "tf.Tensor(0.26249447, shape=(), dtype=float32)\n",
      "WARNING:tensorflow:Gradients do not exist for variables ['dense_88/kernel:0', 'dense_88/bias:0', 'dense_89/kernel:0', 'dense_89/bias:0', 'dense_90/kernel:0', 'dense_90/bias:0', 'dense_91/kernel:0', 'dense_91/bias:0'] when minimizing the loss.\n"
     ]
    },
    {
     "name": "stderr",
     "output_type": "stream",
     "text": [
      "\n",
      "\n",
      "\n",
      "\n",
      "\n",
      "\n",
      " 13%|█▎        | 13/100 [05:51<39:55, 27.53s/it]\u001b[A\u001b[A\u001b[A\u001b[A\u001b[A\u001b[A"
     ]
    },
    {
     "name": "stdout",
     "output_type": "stream",
     "text": [
      "tf.Tensor(0.26279682, shape=(), dtype=float32)\n",
      "WARNING:tensorflow:Gradients do not exist for variables ['dense_88/kernel:0', 'dense_88/bias:0', 'dense_89/kernel:0', 'dense_89/bias:0', 'dense_90/kernel:0', 'dense_90/bias:0', 'dense_91/kernel:0', 'dense_91/bias:0'] when minimizing the loss.\n"
     ]
    },
    {
     "name": "stderr",
     "output_type": "stream",
     "text": [
      "\n",
      "\n",
      "\n",
      "\n",
      "\n",
      "\n",
      " 14%|█▍        | 14/100 [06:20<40:14, 28.07s/it]\u001b[A\u001b[A\u001b[A\u001b[A\u001b[A\u001b[A"
     ]
    },
    {
     "name": "stdout",
     "output_type": "stream",
     "text": [
      "tf.Tensor(0.2611778, shape=(), dtype=float32)\n",
      "WARNING:tensorflow:Gradients do not exist for variables ['dense_88/kernel:0', 'dense_88/bias:0', 'dense_89/kernel:0', 'dense_89/bias:0', 'dense_90/kernel:0', 'dense_90/bias:0', 'dense_91/kernel:0', 'dense_91/bias:0'] when minimizing the loss.\n"
     ]
    },
    {
     "name": "stderr",
     "output_type": "stream",
     "text": [
      "\n",
      "\n",
      "\n",
      "\n",
      "\n",
      "\n",
      " 15%|█▌        | 15/100 [06:47<39:21, 27.78s/it]\u001b[A\u001b[A\u001b[A\u001b[A\u001b[A\u001b[A"
     ]
    },
    {
     "name": "stdout",
     "output_type": "stream",
     "text": [
      "tf.Tensor(0.26072654, shape=(), dtype=float32)\n"
     ]
    },
    {
     "ename": "KeyboardInterrupt",
     "evalue": "",
     "output_type": "error",
     "traceback": [
      "\u001b[0;31m---------------------------------------------------------------------------\u001b[0m",
      "\u001b[0;31mKeyboardInterrupt\u001b[0m                         Traceback (most recent call last)",
      "\u001b[0;32m<ipython-input-198-3a7b27cbca12>\u001b[0m in \u001b[0;36m<module>\u001b[0;34m\u001b[0m\n\u001b[1;32m     18\u001b[0m         \u001b[0mweights\u001b[0m \u001b[0;34m=\u001b[0m \u001b[0;34m[\u001b[0m\u001b[0;34m*\u001b[0m\u001b[0mgn_decode\u001b[0m\u001b[0;34m.\u001b[0m\u001b[0mweights\u001b[0m\u001b[0;34m(\u001b[0m\u001b[0;34m)\u001b[0m\u001b[0;34m,\u001b[0m \u001b[0;34m*\u001b[0m\u001b[0mgn_encode\u001b[0m\u001b[0;34m.\u001b[0m\u001b[0mweights\u001b[0m\u001b[0;34m(\u001b[0m\u001b[0;34m)\u001b[0m\u001b[0;34m,\u001b[0m \u001b[0;34m*\u001b[0m\u001b[0mgn_process\u001b[0m\u001b[0;34m.\u001b[0m\u001b[0mweights\u001b[0m\u001b[0;34m(\u001b[0m\u001b[0;34m)\u001b[0m\u001b[0;34m]\u001b[0m\u001b[0;34m\u001b[0m\u001b[0;34m\u001b[0m\u001b[0m\n\u001b[1;32m     19\u001b[0m \u001b[0;34m\u001b[0m\u001b[0m\n\u001b[0;32m---> 20\u001b[0;31m         \u001b[0mgrads\u001b[0m \u001b[0;34m=\u001b[0m \u001b[0mtape\u001b[0m\u001b[0;34m.\u001b[0m\u001b[0mgradient\u001b[0m\u001b[0;34m(\u001b[0m\u001b[0mloss\u001b[0m\u001b[0;34m,\u001b[0m \u001b[0mweights\u001b[0m\u001b[0;34m)\u001b[0m\u001b[0;34m\u001b[0m\u001b[0;34m\u001b[0m\u001b[0m\n\u001b[0m\u001b[1;32m     21\u001b[0m         \u001b[0mopt\u001b[0m\u001b[0;34m.\u001b[0m\u001b[0mapply_gradients\u001b[0m\u001b[0;34m(\u001b[0m\u001b[0mzip\u001b[0m\u001b[0;34m(\u001b[0m\u001b[0mgrads\u001b[0m\u001b[0;34m,\u001b[0m\u001b[0mweights\u001b[0m\u001b[0;34m)\u001b[0m\u001b[0;34m)\u001b[0m\u001b[0;34m\u001b[0m\u001b[0;34m\u001b[0m\u001b[0m\n\u001b[1;32m     22\u001b[0m \u001b[0;34m\u001b[0m\u001b[0m\n",
      "\u001b[0;32m~/.local/lib/python3.6/site-packages/tensorflow/python/eager/backprop.py\u001b[0m in \u001b[0;36mgradient\u001b[0;34m(self, target, sources, output_gradients, unconnected_gradients)\u001b[0m\n\u001b[1;32m   1046\u001b[0m         \u001b[0moutput_gradients\u001b[0m\u001b[0;34m=\u001b[0m\u001b[0moutput_gradients\u001b[0m\u001b[0;34m,\u001b[0m\u001b[0;34m\u001b[0m\u001b[0;34m\u001b[0m\u001b[0m\n\u001b[1;32m   1047\u001b[0m         \u001b[0msources_raw\u001b[0m\u001b[0;34m=\u001b[0m\u001b[0mflat_sources_raw\u001b[0m\u001b[0;34m,\u001b[0m\u001b[0;34m\u001b[0m\u001b[0;34m\u001b[0m\u001b[0m\n\u001b[0;32m-> 1048\u001b[0;31m         unconnected_gradients=unconnected_gradients)\n\u001b[0m\u001b[1;32m   1049\u001b[0m \u001b[0;34m\u001b[0m\u001b[0m\n\u001b[1;32m   1050\u001b[0m     \u001b[0;32mif\u001b[0m \u001b[0;32mnot\u001b[0m \u001b[0mself\u001b[0m\u001b[0;34m.\u001b[0m\u001b[0m_persistent\u001b[0m\u001b[0;34m:\u001b[0m\u001b[0;34m\u001b[0m\u001b[0;34m\u001b[0m\u001b[0m\n",
      "\u001b[0;32m~/.local/lib/python3.6/site-packages/tensorflow/python/eager/imperative_grad.py\u001b[0m in \u001b[0;36mimperative_grad\u001b[0;34m(tape, target, sources, output_gradients, sources_raw, unconnected_gradients)\u001b[0m\n\u001b[1;32m     75\u001b[0m       \u001b[0moutput_gradients\u001b[0m\u001b[0;34m,\u001b[0m\u001b[0;34m\u001b[0m\u001b[0;34m\u001b[0m\u001b[0m\n\u001b[1;32m     76\u001b[0m       \u001b[0msources_raw\u001b[0m\u001b[0;34m,\u001b[0m\u001b[0;34m\u001b[0m\u001b[0;34m\u001b[0m\u001b[0m\n\u001b[0;32m---> 77\u001b[0;31m       compat.as_str(unconnected_gradients.value))\n\u001b[0m",
      "\u001b[0;32m~/.local/lib/python3.6/site-packages/tensorflow/python/eager/backprop.py\u001b[0m in \u001b[0;36m_gradient_function\u001b[0;34m(op_name, attr_tuple, num_inputs, inputs, outputs, out_grads, skip_input_indices, forward_pass_name_scope)\u001b[0m\n\u001b[1;32m    155\u001b[0m       \u001b[0mgradient_name_scope\u001b[0m \u001b[0;34m=\u001b[0m \u001b[0;34m\"gradient_tape/\"\u001b[0m\u001b[0;34m\u001b[0m\u001b[0;34m\u001b[0m\u001b[0m\n\u001b[1;32m    156\u001b[0m     \u001b[0;32mwith\u001b[0m \u001b[0mops\u001b[0m\u001b[0;34m.\u001b[0m\u001b[0mname_scope\u001b[0m\u001b[0;34m(\u001b[0m\u001b[0mgradient_name_scope\u001b[0m\u001b[0;34m)\u001b[0m\u001b[0;34m:\u001b[0m\u001b[0;34m\u001b[0m\u001b[0;34m\u001b[0m\u001b[0m\n\u001b[0;32m--> 157\u001b[0;31m       \u001b[0;32mreturn\u001b[0m \u001b[0mgrad_fn\u001b[0m\u001b[0;34m(\u001b[0m\u001b[0mmock_op\u001b[0m\u001b[0;34m,\u001b[0m \u001b[0;34m*\u001b[0m\u001b[0mout_grads\u001b[0m\u001b[0;34m)\u001b[0m\u001b[0;34m\u001b[0m\u001b[0;34m\u001b[0m\u001b[0m\n\u001b[0m\u001b[1;32m    158\u001b[0m   \u001b[0;32melse\u001b[0m\u001b[0;34m:\u001b[0m\u001b[0;34m\u001b[0m\u001b[0;34m\u001b[0m\u001b[0m\n\u001b[1;32m    159\u001b[0m     \u001b[0;32mreturn\u001b[0m \u001b[0mgrad_fn\u001b[0m\u001b[0;34m(\u001b[0m\u001b[0mmock_op\u001b[0m\u001b[0;34m,\u001b[0m \u001b[0;34m*\u001b[0m\u001b[0mout_grads\u001b[0m\u001b[0;34m)\u001b[0m\u001b[0;34m\u001b[0m\u001b[0;34m\u001b[0m\u001b[0m\n",
      "\u001b[0;32m~/.local/lib/python3.6/site-packages/tensorflow/python/ops/array_grad.py\u001b[0m in \u001b[0;36m_PackGrad\u001b[0;34m(op, grad)\u001b[0m\n\u001b[1;32m     42\u001b[0m \u001b[0;32mdef\u001b[0m \u001b[0m_PackGrad\u001b[0m\u001b[0;34m(\u001b[0m\u001b[0mop\u001b[0m\u001b[0;34m,\u001b[0m \u001b[0mgrad\u001b[0m\u001b[0;34m)\u001b[0m\u001b[0;34m:\u001b[0m\u001b[0;34m\u001b[0m\u001b[0;34m\u001b[0m\u001b[0m\n\u001b[1;32m     43\u001b[0m   \u001b[0;34m\"\"\"Gradient for pack op.\"\"\"\u001b[0m\u001b[0;34m\u001b[0m\u001b[0;34m\u001b[0m\u001b[0m\n\u001b[0;32m---> 44\u001b[0;31m   \u001b[0;32mreturn\u001b[0m \u001b[0marray_ops\u001b[0m\u001b[0;34m.\u001b[0m\u001b[0munstack\u001b[0m\u001b[0;34m(\u001b[0m\u001b[0mgrad\u001b[0m\u001b[0;34m,\u001b[0m \u001b[0mnum\u001b[0m\u001b[0;34m=\u001b[0m\u001b[0mop\u001b[0m\u001b[0;34m.\u001b[0m\u001b[0mget_attr\u001b[0m\u001b[0;34m(\u001b[0m\u001b[0;34m\"N\"\u001b[0m\u001b[0;34m)\u001b[0m\u001b[0;34m,\u001b[0m \u001b[0maxis\u001b[0m\u001b[0;34m=\u001b[0m\u001b[0mop\u001b[0m\u001b[0;34m.\u001b[0m\u001b[0mget_attr\u001b[0m\u001b[0;34m(\u001b[0m\u001b[0;34m\"axis\"\u001b[0m\u001b[0;34m)\u001b[0m\u001b[0;34m)\u001b[0m\u001b[0;34m\u001b[0m\u001b[0;34m\u001b[0m\u001b[0m\n\u001b[0m\u001b[1;32m     45\u001b[0m \u001b[0;34m\u001b[0m\u001b[0m\n\u001b[1;32m     46\u001b[0m \u001b[0;34m\u001b[0m\u001b[0m\n",
      "\u001b[0;32m~/.local/lib/python3.6/site-packages/tensorflow/python/ops/array_ops.py\u001b[0m in \u001b[0;36munstack\u001b[0;34m(value, num, axis, name)\u001b[0m\n\u001b[1;32m   1509\u001b[0m   \u001b[0;32mif\u001b[0m \u001b[0mnum\u001b[0m \u001b[0;32mis\u001b[0m \u001b[0;32mNone\u001b[0m\u001b[0;34m:\u001b[0m\u001b[0;34m\u001b[0m\u001b[0;34m\u001b[0m\u001b[0m\n\u001b[1;32m   1510\u001b[0m     \u001b[0;32mraise\u001b[0m \u001b[0mValueError\u001b[0m\u001b[0;34m(\u001b[0m\u001b[0;34m\"Cannot infer num from shape %s\"\u001b[0m \u001b[0;34m%\u001b[0m \u001b[0mvalue_shape\u001b[0m\u001b[0;34m)\u001b[0m\u001b[0;34m\u001b[0m\u001b[0;34m\u001b[0m\u001b[0m\n\u001b[0;32m-> 1511\u001b[0;31m   \u001b[0;32mreturn\u001b[0m \u001b[0mgen_array_ops\u001b[0m\u001b[0;34m.\u001b[0m\u001b[0munpack\u001b[0m\u001b[0;34m(\u001b[0m\u001b[0mvalue\u001b[0m\u001b[0;34m,\u001b[0m \u001b[0mnum\u001b[0m\u001b[0;34m=\u001b[0m\u001b[0mnum\u001b[0m\u001b[0;34m,\u001b[0m \u001b[0maxis\u001b[0m\u001b[0;34m=\u001b[0m\u001b[0maxis\u001b[0m\u001b[0;34m,\u001b[0m \u001b[0mname\u001b[0m\u001b[0;34m=\u001b[0m\u001b[0mname\u001b[0m\u001b[0;34m)\u001b[0m\u001b[0;34m\u001b[0m\u001b[0;34m\u001b[0m\u001b[0m\n\u001b[0m\u001b[1;32m   1512\u001b[0m \u001b[0;34m\u001b[0m\u001b[0m\n\u001b[1;32m   1513\u001b[0m \u001b[0;34m\u001b[0m\u001b[0m\n",
      "\u001b[0;32m~/.local/lib/python3.6/site-packages/tensorflow/python/ops/gen_array_ops.py\u001b[0m in \u001b[0;36munpack\u001b[0;34m(value, num, axis, name)\u001b[0m\n\u001b[1;32m  11666\u001b[0m       _result = pywrap_tfe.TFE_Py_FastPathExecute(\n\u001b[1;32m  11667\u001b[0m         \u001b[0m_ctx\u001b[0m\u001b[0;34m.\u001b[0m\u001b[0m_context_handle\u001b[0m\u001b[0;34m,\u001b[0m \u001b[0mtld\u001b[0m\u001b[0;34m.\u001b[0m\u001b[0mdevice_name\u001b[0m\u001b[0;34m,\u001b[0m \u001b[0;34m\"Unpack\"\u001b[0m\u001b[0;34m,\u001b[0m \u001b[0mname\u001b[0m\u001b[0;34m,\u001b[0m\u001b[0;34m\u001b[0m\u001b[0;34m\u001b[0m\u001b[0m\n\u001b[0;32m> 11668\u001b[0;31m         tld.op_callbacks, value, \"num\", num, \"axis\", axis)\n\u001b[0m\u001b[1;32m  11669\u001b[0m       \u001b[0;32mreturn\u001b[0m \u001b[0m_result\u001b[0m\u001b[0;34m\u001b[0m\u001b[0;34m\u001b[0m\u001b[0m\n\u001b[1;32m  11670\u001b[0m     \u001b[0;32mexcept\u001b[0m \u001b[0m_core\u001b[0m\u001b[0;34m.\u001b[0m\u001b[0m_FallbackException\u001b[0m\u001b[0;34m:\u001b[0m\u001b[0;34m\u001b[0m\u001b[0;34m\u001b[0m\u001b[0m\n",
      "\u001b[0;31mKeyboardInterrupt\u001b[0m: "
     ]
    }
   ],
   "source": [
    "\n",
    "\n",
    "#ghat = eval_network(gin)\n",
    "\n",
    "#g = input_graphs[0];\n",
    "\n",
    "#zip(g.nodes, ghat.nodes)\n",
    "\n",
    "opt = tf.keras.optimizers.Adam(learning_rate = 0.001)\n",
    "\n",
    "loss_fcn= lambda x,y : tf.reduce_mean(tf.pow(x-y,2))\n",
    "loss_history = []\n",
    "for i in tqdm.tqdm(range(0,100)):\n",
    "    with tf.GradientTape() as tape:\n",
    "        ghat = eval_network(gin.copy())\n",
    "        nodes_losses = []\n",
    "        for n1,n2 in zip(ghat.nodes, gout.nodes):\n",
    "            nodes_losses.append(loss_fcn(n1.node_attr_tensor,n2.node_attr_tensor))\n",
    "        loss = tf.reduce_mean(nodes_losses)\n",
    "        weights = [*gn_decode.weights(), *gn_encode.weights(), *gn_process.weights()]\n",
    "        \n",
    "        grads = tape.gradient(loss, weights)\n",
    "        opt.apply_gradients(zip(grads,weights))\n",
    "        \n",
    "    loss_history.append(loss)\n",
    "    print(loss)\n",
    "    \n",
    "            \n",
    "            \n",
    "    \n",
    "\n",
    "    "
   ]
  },
  {
   "cell_type": "code",
   "execution_count": 199,
   "metadata": {},
   "outputs": [
    {
     "data": {
      "text/plain": [
       "[<matplotlib.lines.Line2D at 0x7f3d136300f0>]"
      ]
     },
     "execution_count": 199,
     "metadata": {},
     "output_type": "execute_result"
    },
    {
     "data": {
      "image/png": "[encoded data removed]",
      "text/plain": [
       "<Figure size 432x288 with 1 Axes>"
      ]
     },
     "metadata": {
      "needs_background": "light"
     },
     "output_type": "display_data"
    }
   ],
   "source": [
    "pplot.plot(loss_history)"
   ]
  },
  {
   "cell_type": "code",
   "execution_count": 200,
   "metadata": {},
   "outputs": [
    {
     "data": {
      "text/plain": [
       "[<matplotlib.lines.Line2D at 0x7f3cf152d5c0>]"
      ]
     },
     "execution_count": 200,
     "metadata": {},
     "output_type": "execute_result"
    },
    {
     "data": {
      "image/png": "[encoded data removed]",
      "text/plain": [
       "<Figure size 432x288 with 1 Axes>"
      ]
     },
     "metadata": {
      "needs_background": "light"
     },
     "output_type": "display_data"
    }
   ],
   "source": [
    "ghat = eval_network(gin.copy())\n",
    "node_out_vals_hat = np.array([n.node_attr_tensor.numpy()  for n in ghat.nodes]).flatten()\n",
    "node_out_vals = np.array([n.node_attr_tensor  for n in gout.nodes]).flatten()\n",
    "pplot.plot(node_out_vals_hat, node_out_vals,'.')\n",
    "pplot.plot( node_out_vals, node_out_vals,'.')"
   ]
  },
  {
   "cell_type": "code",
   "execution_count": 139,
   "metadata": {},
   "outputs": [],
   "source": [
    "graphs_out = eval_network(input_graphs[index])\n",
    "points_out = node_posi[index]"
   ]
  },
  {
   "cell_type": "code",
   "execution_count": 205,
   "metadata": {},
   "outputs": [],
   "source": [
    "index = 2\n",
    "is_unobserved = [np.all(n1.node_attr_tensor!= n2.node_attr_tensor) for n1,n2 in zip(input_graphs[index].nodes,output_graphs[index].nodes)]\n",
    "out_hat = eval_network(input_graphs[index].copy())\n",
    "vals=  np.hstack([n.node_attr_tensor.numpy().flatten() for n in out_hat.nodes])\n",
    "vals_actual = np.hstack([n.node_attr_tensor.flatten() for n in output_graphs[index].nodes])\n"
   ]
  },
  {
   "cell_type": "code",
   "execution_count": 206,
   "metadata": {},
   "outputs": [
    {
     "data": {
      "image/png": "[encoded data removed]",
      "text/plain": [
       "<Figure size 432x288 with 1 Axes>"
      ]
     },
     "metadata": {
      "needs_background": "light"
     },
     "output_type": "display_data"
    },
    {
     "data": {
      "image/png": "[encoded data removed]",
      "text/plain": [
       "<Figure size 432x288 with 1 Axes>"
      ]
     },
     "metadata": {
      "needs_background": "light"
     },
     "output_type": "display_data"
    },
    {
     "data": {
      "text/plain": [
       "[<matplotlib.lines.Line2D at 0x7f3d437206a0>]"
      ]
     },
     "execution_count": 206,
     "metadata": {},
     "output_type": "execute_result"
    },
    {
     "data": {
      "image/png": "[encoded data removed]",
      "text/plain": [
       "<Figure size 432x288 with 1 Axes>"
      ]
     },
     "metadata": {
      "needs_background": "light"
     },
     "output_type": "display_data"
    }
   ],
   "source": [
    "pos = np.array(node_positions[index])\n",
    "#pplot.scatter(pos[is_unobserved,0], pos[is_unobserved,1], c = vals[is_unobserved])\n",
    "pplot.scatter(pos[:,0], pos[:,1], c = vals)\n",
    "pplot.show()\n",
    "pplot.scatter(pos[:,0], pos[:,1], c = vals_actual)\n",
    "\n",
    "#pplot.scatter(pos[is_unobserved,0], pos[is_unobserved,1], c = vals[is_unobserved])\n",
    "pplot.show()\n",
    "pplot.plot(vals,vals_actual,'.')\n",
    "pplot.plot(vals_actual,vals_actual,'.')\n"
   ]
  },
  {
   "cell_type": "code",
   "execution_count": null,
   "metadata": {},
   "outputs": [],
   "source": []
  },
  {
   "cell_type": "code",
   "execution_count": 207,
   "metadata": {},
   "outputs": [
    {
     "data": {
      "text/plain": [
       "[<matplotlib.lines.Line2D at 0x7f3d29035f60>]"
      ]
     },
     "execution_count": 207,
     "metadata": {},
     "output_type": "execute_result"
    },
    {
     "data": {
      "image/png": "[encoded data removed]",
      "text/plain": [
       "<Figure size 432x288 with 1 Axes>"
      ]
     },
     "metadata": {
      "needs_background": "light"
     },
     "output_type": "display_data"
    }
   ],
   "source": [
    "pplot.plot(vals, vals_actual)"
   ]
  },
  {
   "cell_type": "markdown",
   "metadata": {},
   "source": [
    "# Other tests:"
   ]
  },
  {
   "cell_type": "code",
   "execution_count": 2,
   "metadata": {},
   "outputs": [],
   "source": [
    "from graphnet_utils import GraphNet, GraphNetFunctionFactory"
   ]
  },
  {
   "cell_type": "code",
   "execution_count": 3,
   "metadata": {},
   "outputs": [],
   "source": [
    "gn = GraphNetFunctionFactory()"
   ]
  },
  {
   "cell_type": "code",
   "execution_count": 5,
   "metadata": {},
   "outputs": [
    {
     "name": "stdout",
     "output_type": "stream",
     "text": [
      "WARNING:tensorflow:Layer output is casting an input tensor from dtype float64 to the layer's dtype of float32, which is new behavior in TensorFlow 2.  The layer has dtype float32 because it's dtype defaults to floatx.\n",
      "\n",
      "If you intended to run this layer in float32, you can safely ignore this warning. If in doubt, this warning is likely only an issue if you are porting a TensorFlow 1.X model to TensorFlow 2.\n",
      "\n",
      "To change all layers to have dtype float64 by default, call `tf.keras.backend.set_floatx('float64')`. To change just this layer, pass dtype='float64' to the layer constructor. If you are the author of this layer, you can disable autocasting by passing autocast=False to the base Layer constructor.\n",
      "\n"
     ]
    }
   ],
   "source": [
    "gn.make_graphnet_comp_blocks(100)"
   ]
  },
  {
   "cell_type": "code",
   "execution_count": 8,
   "metadata": {},
   "outputs": [
    {
     "data": {
      "text/plain": [
       "<tensorflow.python.keras.engine.training.Model at 0x7f0cf1183780>"
      ]
     },
     "execution_count": 8,
     "metadata": {},
     "output_type": "execute_result"
    }
   ],
   "source": [
    "\n",
    "GraphNetFunctionFactory.make_edge_aggregation_function(self = None,edge_out_shape  = 10)"
   ]
  },
  {
   "cell_type": "code",
   "execution_count": 20,
   "metadata": {},
   "outputs": [
    {
     "data": {
      "text/plain": [
       "<__main__.aaa at 0x7f0d1c30a978>"
      ]
     },
     "execution_count": 20,
     "metadata": {},
     "output_type": "execute_result"
    }
   ],
   "source": [
    "class aaa:\n",
    "    def __init__(self):\n",
    "        self.make_asdf(3)\n",
    "        \n",
    "    @classmethod\n",
    "    def make_asdf(self,k):\n",
    "        return \"asdf\" + str(k)\n",
    "    \n",
    "\n",
    "aaa()"
   ]
  },
  {
   "cell_type": "code",
   "execution_count": 21,
   "metadata": {},
   "outputs": [
    {
     "data": {
      "text/plain": [
       "'asdf3'"
      ]
     },
     "execution_count": 21,
     "metadata": {},
     "output_type": "execute_result"
    }
   ],
   "source": [
    "aaa.make_asdf(3)"
   ]
  },
  {
   "cell_type": "code",
   "execution_count": null,
   "metadata": {},
   "outputs": [],
   "source": []
  }
 ],
 "metadata": {
  "kernelspec": {
   "display_name": "Python 3",
   "language": "python",
   "name": "python3"
  },
  "language_info": {
   "codemirror_mode": {
    "name": "ipython",
    "version": 3
   },
   "file_extension": ".py",
   "mimetype": "text/x-python",
   "name": "python",
   "nbconvert_exporter": "python",
   "pygments_lexer": "ipython3",
   "version": "3.6.9"
  }
 },
 "nbformat": 4,
 "nbformat_minor": 2
}
